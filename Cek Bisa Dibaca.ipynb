{
 "cells": [
  {
   "cell_type": "code",
   "execution_count": 1,
   "metadata": {},
   "outputs": [],
   "source": [
    "tidak = [\"jhqw86t5l pqmcxv7r9 4k0e3b12z\",\"g729yrqnk r3p05oemc 1jvix4d8l\",\"m2bvl6x8p t9fz0e7jq 5acnh1r4k\",\"w4z1q8bpc v9xn2k7jm 3r0e6d5ft\",\n",
    "         \"k3v7l6x2t n1b8c4f9z 0p5oerjqm\",\"5h2e9jvq7 8r4l0b3p6 1mctzfdox\",\"x8t5f1z3e n7r9k2m6c 4p0oqjlvd\",\"d6x2v8n4t h0j5r7q9e 3b1ckmflp\",\n",
    "         \"1z3x5c7v9 6t8h0j2b4 7nrfpqemd\",\"o9e7d4k6t g1r3x5c8v 2m0jfbhzq\",\"y7h6n2t1b r4d8e5c0x 9m3kqjfpv\",\"l2z9v3x5q f6b1m8c4r 7e0dthjkn\",\n",
    "         \"3o7k5b1m9 8c4x6v2zq 0n2rjlpte\",\"t6h0n8m2c b5z9v1x3q 7e4krlfjd\",\"w1o3e7z9x v5r6l2j4t 8h0nmbcqp\",\"4b8p5o2e6 7z1x9c3v0 9rthkjlnm\",\n",
    "         \"0n6f4b8p2 3o5e7z9x1 8qjrmcvtl\",\"i2b4c6v8x q0w3e5r7t 9y1u3o5p7\",\"m8c4v6b2z j0h3n5m7t 1l9k7x9e\",\"7d9f1v3x5 6g2h4n8m 0cjqzpklr\",\n",
    "         \"p5o9i1y3 4u6t8r2e 7w0q2a6s\",\"k3l7j9h1 5u8y0i2t 4r6e2wqo\",\"6z8x0c2v 1n3m5b7 9t1g4f7d\",\"e4r6t8y 2u5i7o9 0p1a3s5d\",\n",
    "         \"4g6f8b2v 1n3c5x7 9j0kq3r5\",\"m7k9j1h3 5l8b0v2 4n6c8xqz\",\"p2o4i6u8 3y5t7r9 1w9a0s\",\"t7g9f1d3 5h6j8k0 2n4m6c8\",\n",
    "         \"l4z6x8v0 2n3m5b7 9h1q3r5\",\"p7o9i1u3 4t5r6e8 2w0aqz\",\"t9g1f3d5 6h7j8k0 2n4b6c8\",\"6z8x0v2n 1m3c5b7 9q1wrty\",\n",
    "         \"7d9f1b3v 4g6n8m0 2c5xqz\",\"e2r4t6y 8u0i1o3 5p7a9s\",\"3g5h7j9 1u2i4o6 8k0q2w4\",\"m6k8l0j 2h4y6i9 7n1b3v5\",\n",
    "         \"p9o1i3u 4t5r6e 7w8a2s\",\"t7g9f1d 5h6j8k 2n4m6c\",\"l4z6x8v 2n3m5b 7q9r1\",\"p7o9i1u 4t5r6e 2w0a\",\n",
    "         \"t9g1f3d 6h7j8k 2n4b\",\"6z8x0v 1m3c5b 9q1w\",\"7d9f1b 4g6n8m 2c5x\",\"e2r4t 8u0i1o 5p7a\",\n",
    "         \"3g5h 1u2i 8k0q\",\"m6k8 2h4y 7n1b\",\"p9o1 4t5 7w8\",\"t7g9 5h6 2n4\",\"l4z6 2n3 7q9\",\"p7o9 4t5 2w0\"\n",
    "         ]\n",
    "\n",
    "bisa = [\"Menggunakan kacamata atau lensa kontak dapat membantu memperbaiki gangguan penglihatan dan mencegah masalah lebih lanjut.\", \"Duduk terlalu dekat dengan layar komputer tidak merusak mata secara permanen.\", \"Menggunakan wortel secara berlebihan akan meningkatkan penglihatan dengan cepat.\", \"Bersepeda dapat menyebabkan kebutaan.\", \"Mata hanya perlu diperiksa jika ada masalah penglihatan.\", \"Menggunakan tetes mata secara berlebihan dapat menyebabkan ketergantungan.\", \"Membaca dalam cahaya redup tidak merusak mata secara permanen.\", \"Menggosok mata saat gatal dapat menyebabkan penyebaran infeksi.\", \"Istirahat sebentar setelah melihat layar tidak akan memperbaiki masalah penglihatan.\", \"Terlalu banyak membaca dalam cahaya rendah tidak akan merusak mata.\", \"Menyilangkan mata dapat menyebabkan mata juling.\", \"Menggunakan topeng tidur dapat menyebabkan kebutaan.\", \"Duduk terlalu dekat dengan lampu membaca dapat merusak penglihatan.\", \"Makanan pedas dapat merusak mata.\",\n",
    "        \"Menggunakan smartphone di gelap dapat merusak mata.\", \"Berenang setelah makan bisa menyebabkan rabun mata.\", \"Tidak perlu kacamata saat hujan karena air hujan membersihkan mata.\", \"Lensa kontak kolor dapat membuat mata lebih sensitif terhadap cahaya.\", \"Pilihan makanan yang salah dapat menyebabkan warna mata berubah.\",\n",
    "        \"Tidur dengan riasan mata dapat merusak bulu mata.\", \"Memakai kacamata minus bisa menyembuhkan mata minus.\", \"Melihat langsung matahari dapat meningkatkan penglihatan.\",\n",
    "        \"Memiringkan kepala saat membaca bisa merusak mata.\", \"Kaca mata hitam hanya diperlukan saat matahari terik.\", \"Tidak perlu melindungi mata di lingkungan berdebu atau berangin.\", \"Tidur cukup dapat menyembuhkan mata kering.\", \"Membaca di tempat gelap merusak penglihatan secara permanen.\", \"Kacamata membaca hanya diperlukan jika Anda sudah tua.\", \"Mengucek mata setelah berenang akan membuat penglihatan lebih baik.\",\n",
    "        \"Melihat TV dari dekat merusak mata.\", \"Air mata buatan dapat menyembuhkan semua masalah mata.\", \"Tidak memerlukan kacamata jika Anda hanya memiliki masalah penglihatan jauh.\", \"Melihat layar komputer sepanjang hari tidak akan merusak mata.\", \"Menggunakan kacamata minus bisa membuat mata semakin buruk.\", \"Berbicara saat angin berhembus dapat membuat mata merah.\", \"Lensa kontak tidak aman untuk digunakan saat berenang.\", \"Mata akan selalu memburuk seiring bertambahnya usia.\", \"Semua kacamata hitam memberikan perlindungan UV yang baik.\", \"Mata kering hanya terjadi pada orang tua.\",\n",
    "        \"Memakan ikan secara teratur bisa menghilangkan masalah mata.\", \"Minum air kelapa hijau dapat meningkatkan penglihatan.\", \"Bola mata berubah bentuk saat melihat benda dekat secara terus-menerus.\", \"Membaca dalam cahaya redup lebih baik daripada cahaya terang.\",\n",
    "        \"Melihat layar dengan sinar biru dapat merusak retina.\", \"Riasan mata yang tebal dapat melindungi mata dari sinar matahari.\", \"Kaca mata anti-silau akan merusak mata dalam jangka panjang.\", \"Merendam kantung teh di mata dapat menyembuhkan infeksi.\", \"Menggunakan kacamata minus jika mata terasa lelah dapat membantu.\", \"Menggunakan kacamata minus bisa menyebabkan mata lebih lelah.\", \"Menutup satu mata saat membaca dapat meningkatkan fokus.\", \"Tidak perlu kacamata matahari jika cuaca mendung.\", \"Makanan manis dapat menyebabkan astigmatisme.\", \"Tidur dengan lensa kontak dapat merusak kornea.\", \"Menggosok mata dengan daun mint dapat menghilangkan mata merah.\", \"Menggunakan kacamata pada anak-anak bisa membuat mata semakin buruk.\", \"Melihat TV dekat mata dapat memperbaiki penglihatan.\", \"Terlalu sering memakai kacamata minus bisa membuat mata malas.\", \"Membaca dengan cahaya lilin lebih baik untuk mata.\", \"Menggunakan lensa kontak saat tidur tidak masalah.\", \"Melihat sinar laser secara langsung tidak berbahaya bagi mata.\",\n",
    "        \"Paparan sinar ultraviolet dari sinar matahari dapat menyebabkan kerusakan mata.\", \"Diabetes dapat menyebabkan retinopati diabetik yang dapat mengganggu penglihatan.\", \"Perubahan penglihatan terjadi secara alami seiring bertambahnya usia.\", \"Merokok dapat meningkatkan risiko terjadinya katarak dan degenerasi makula.\", \"Konsumsi makanan bergizi, seperti makanan kaya vitamin A, C, E, dan mineral seperti seng, dapat membantu menjaga kesehatan mata.\", \"Istirahat reguler dan tetes mata bisa membantu mengurangi ketidaknyamanan mata kering.\", \"Penggunaan komputer dan perangkat elektronik lainnya dalam jangka waktu yang lama dapat menyebabkan Computer Vision Syndrome (CVS), menyebabkan gejala seperti mata kering, sakit kepala, dan ketegangan leher.\", \"Bentuk fisik mata setiap orang berbeda.\", \"Kacamata hitam yang baik melindungi mata dari sinar UV dan meminimalkan paparan sinar biru dari layar komputer atau perangkat elektronik lainnya.\", \"Deteksi dini adalah kunci untuk mencegah banyak masalah mata yang serius.\", \"Radang kelopak mata atau blepharitis adalah peradangan umum pada kelopak mata yang dapat menyebabkan mata merah, gatal, dan mengganggu penglihatan.\", \"Terlalu banyak paparan layar gadget dapat meningkatkan risiko mata kering.\", \"Glaukoma adalah kondisi di mana tekanan mata tinggi dapat merusak saraf optik dan menyebabkan kehilangan penglihatan.\", \"Usia di atas 40 meningkatkan risiko pengembangan katarak, yang mengaburkan lensa mata.\", \"Terlalu sering mengucek mata dapat memicu iritasi dan infeksi.\",\n",
    "        \"Kondisi mata seperti mata juling dapat diobati dengan terapi fisik atau operasi.\", \"Penggunaan lensa kontak yang tidak tepat atau kebersihan yang buruk dapat menyebabkan infeksi mata serius.\", \"Beberapa penyakit autoimun, seperti lupus dan rheumatoid arthritis, dapat mempengaruhi mata.\", \"Tekanan darah tinggi atau hipertensi dapat merusak pembuluh darah di mata.\", \"Konsumsi lemak sehat, seperti omega-3, dapat mendukung kesehatan mata.\", \"Lensa kontak tipe harian lebih higienis karena diganti setiap hari.\", \"Stres kronis dapat mempengaruhi kesehatan mata dan menyebabkan gejala mata kering.\", \"Alkohol dalam jumlah berlebihan dapat merusak saraf optik.\", \"Terlalu banyak mengonsumsi gula dapat meningkatkan risiko diabetes tipe 2, yang dapat merusak mata.\",\n",
    "        \"Beberapa obat, seperti antihistamin, dapat menyebabkan mata kering.\", \"Tekanan pada mata saat batuk atau bersin dapat memicu katarak pada orang yang rentan.\", \"Cedera mata dapat terjadi saat berolahraga atau kecelakaan, sehingga penting untuk menggunakan perlindungan mata yang tepat.\", \"Diabetes juga dapat menyebabkan pembuluh darah kecil di retina pecah, menyebabkan pendarahan dalam mata.\", \"Radang retina, atau uveitis, adalah kondisi yang dapat mengakibatkan mata merah, nyeri, dan penglihatan kabur.\", \"Lensa kontak tipe bulanan memerlukan perawatan dan pembersihan yang lebih intensif.\", \"Terlalu banyak konsumsi garam dapat meningkatkan risiko pembengkakan di sekitar mata.\", \"Terkena cahaya biru yang kuat dari layar komputer larut malam dapat mengganggu ritme sirkadian dan kualitas tidur.\", \"Mata kering dapat mempengaruhi kenyamanan selama penggunaan lensa kontak.\", \"Paparan sinar matahari yang berlebihan selama bertahun-tahun dapat menyebabkan pterygium atau ‘selaput mata’.\", \"Retina, bagian belakang mata, mengandung sel-sel fotoreseptor yang memungkinkan kita melihat cahaya dan warna.\", \"Terlalu banyak kafein dapat menyebabkan kelebihan cairan di mata, menyebabkan pembengkakan.\", \"Konsumsi vitamin C dan E dapat membantu mencegah degenerasi makula terkait usia.\", \"Pembengkakan kelopak mata (edema) dapat disebabkan oleh alergi atau masalah kesehatan lainnya.\", \"Beberapa kondisi seperti lupus dan rheumatoid arthritis dapat menyebabkan mata merah dan kering.\", \"Mata bayi baru lahir belum sepenuhnya berkembang dan perlu waktu untuk fokus dengan baik.\", \"Tidak semua masalah mata dapat dilihat dari luar; pemeriksaan mata profesional penting untuk deteksi dini.\", \"Mata manusia memiliki sekitar 107 juta sel batang yang membantu dalam penglihatan rendah cahaya.\", \"Pigmen pada iris mata mempengaruhi warna mata, dengan lebih banyak pigmen menghasilkan mata yang lebih gelap.\", \"Kondisi seperti hipotiroidisme dapat mempengaruhi kesehatan mata dan mengganggu produksi air mata.\", \"Pasokan darah yang buruk ke mata dapat menyebabkan masalah penglihatan dan kondisi serius seperti stroke mata.\", \"Pilihan kacamata atau lensa kontak yang tepat dapat membantu mengurangi mata lelah saat membaca atau bekerja di depan layar.\", \"Efek sinar biru pada retina dapat menyebabkan stres oksidatif yang merusak sel-sel mata.\", \"Kelopak mata memiliki kelenjar minyak yang dapat menyebabkan blepharitis jika terjadi infeksi atau penyumbatan.\", \"Kondisi jerawat rosasea juga dapat mempengaruhi mata, menyebabkan mata merah dan iritasi.\", \"Mata manusia dapat membedakan sekitar 10 juta warna berbeda.\",\n",
    "        \"Pembedahan katarak adalah prosedur yang umum untuk mengganti lensa mata yang kabur.\",\n",
    "        \"Terkena bahan kimia dapat menyebabkan luka kimia pada mata, yang dapat menyebabkan kerusakan permanen.\", \"Mata manusia dapat fokus pada objek yang berjarak mulai dari beberapa sentimeter hingga sejauh beberapa kilometer.\", \"Menerapkan kompres dingin dapat membantu mengurangi pembengkakan mata.\", \"Memijat area di sekitar mata dapat membantu meredakan ketegangan dan meningkatkan sirkulasi darah.\", \"Mata bayi cenderung berkedip lebih sedikit daripada orang dewasa.\", \"Pembuluh darah di bola mata membantu menyediakan nutrisi dan oksigen ke sel-sel mata.\", \"Radiasi sinar-X dapat merusak sel-sel di mata, itulah mengapa perlu menggunakan pelindung mata saat menjalani pemeriksaan sinar-X.\", \"Beberapa kondisi, seperti lupus, dapat memicu kerusakan saraf optik.\", \"Sel photoreceptor (sel batang dan kerucut) di retina mengubah cahaya menjadi sinyal saraf yang dikirimkan ke otak untuk pengolahan penglihatan.\"\n",
    "        ]"
   ]
  },
  {
   "cell_type": "code",
   "execution_count": 2,
   "metadata": {},
   "outputs": [],
   "source": [
    "import gensim\n",
    "import numpy as np\n",
    "import random\n",
    "from sklearn.model_selection import train_test_split\n",
    "from sklearn.preprocessing import LabelEncoder\n",
    "from sklearn.metrics import accuracy_score\n",
    "from keras.models import Sequential\n",
    "from keras.layers import Dense, Embedding, Flatten, Conv1D, MaxPooling1D\n",
    "from keras.models import load_model"
   ]
  },
  {
   "cell_type": "code",
   "execution_count": 3,
   "metadata": {},
   "outputs": [],
   "source": [
    "# Definisi Function\n",
    "def clean_and_lower(text):\n",
    "    cleaned_text = ''.join(char.lower() for char in text if char.isalnum() or char.isspace())\n",
    "    return cleaned_text\n",
    "\n",
    "# Word2Vec Model\n",
    "def word2vec_model(sentences):\n",
    "    words = [sentence.split() for sentence in sentences]\n",
    "    model = gensim.models.Word2Vec(words, vector_size=100, window=5, min_count=1, workers=4)\n",
    "    return model\n",
    "\n",
    "# Convert sentences to average word vectors\n",
    "def get_avg_word_vectors(sentences, model):\n",
    "    avg_vectors = []\n",
    "    for sentence in sentences:\n",
    "        vectors = []\n",
    "        for word in sentence.split():\n",
    "            if word in model.wv:\n",
    "                vectors.append(model.wv[word])\n",
    "        if vectors:\n",
    "            avg_vectors.append(np.mean(vectors, axis=0))\n",
    "        else:\n",
    "            avg_vectors.append(np.zeros(model.vector_size))\n",
    "    return np.array(avg_vectors)\n",
    "\n",
    "# Build and train a simple neural network\n",
    "def build_model(input_dim):\n",
    "    model = Sequential()\n",
    "    model.add(Dense(128, input_dim=input_dim, activation='relu'))\n",
    "    model.add(Dense(8, activation='relu'))\n",
    "    # model.add(MaxPooling1D())\n",
    "    # model.add(Conv1D(16, 16, 1, activation='relu'))\n",
    "    # model.add(MaxPooling1D())\n",
    "    # model.add(Conv1D(32, 32, 1, activation='relu'))\n",
    "    # model.add(MaxPooling1D())\n",
    "    model.add(Flatten())\n",
    "    model.add(Dense(64, activation='relu'))\n",
    "    model.add(Dense(1, activation='sigmoid'))\n",
    "    model.compile(loss='binary_crossentropy', optimizer='adam', metrics=['accuracy'])\n",
    "    return model"
   ]
  },
  {
   "cell_type": "code",
   "execution_count": 6,
   "metadata": {},
   "outputs": [
    {
     "name": "stdout",
     "output_type": "stream",
     "text": [
      "('jhqw86t5l pqmcxv7r9 4k0e3b12z', 0)\n",
      "('Menggunakan kacamata atau lensa kontak dapat membantu memperbaiki gangguan penglihatan dan mencegah masalah lebih lanjut.', 1)\n"
     ]
    }
   ],
   "source": [
    "# Kasih target setiap kalimat, 0 = mitos, 1 = fakta\n",
    "labelledTidak = [(kalimat, 0) for kalimat in tidak]\n",
    "labelledBisa = [(kalimat, 1) for kalimat in bisa]\n",
    "print(labelledTidak[0])\n",
    "print(labelledBisa[0])"
   ]
  },
  {
   "cell_type": "code",
   "execution_count": 7,
   "metadata": {},
   "outputs": [
    {
     "name": "stdout",
     "output_type": "stream",
     "text": [
      "('7d9f1b3v 4g6n8m0 2c5xqz', 0)\n"
     ]
    }
   ],
   "source": [
    "# gabung fakta dan mitos, lalu shuffle\n",
    "trainData = labelledTidak + labelledBisa\n",
    "random.shuffle(trainData)\n",
    "print(trainData[0])"
   ]
  },
  {
   "cell_type": "code",
   "execution_count": 10,
   "metadata": {},
   "outputs": [
    {
     "name": "stdout",
     "output_type": "stream",
     "text": [
      "('p9o1 4t5 7w8', 0)\n"
     ]
    }
   ],
   "source": [
    "# preprocess, hilangkan yang bukan alpha numerik dan lower\n",
    "cleanData = [(clean_and_lower(kalimat), label) for kalimat, label in trainData]\n",
    "random.shuffle(cleanData)\n",
    "print(cleanData[0])"
   ]
  },
  {
   "cell_type": "code",
   "execution_count": 11,
   "metadata": {},
   "outputs": [
    {
     "name": "stdout",
     "output_type": "stream",
     "text": [
      "170\n",
      "0\n"
     ]
    }
   ],
   "source": [
    "sentences = [data for data, label in cleanData]\n",
    "labels = [label for data, label in cleanData]\n",
    "print(len(sentences))\n",
    "print(labels[0])"
   ]
  },
  {
   "cell_type": "code",
   "execution_count": 12,
   "metadata": {},
   "outputs": [
    {
     "name": "stdout",
     "output_type": "stream",
     "text": [
      "Epoch 1/20\n",
      "34/34 [==============================] - 1s 2ms/step - loss: 0.6692 - accuracy: 0.7000\n",
      "Epoch 2/20\n",
      "34/34 [==============================] - 0s 2ms/step - loss: 0.6167 - accuracy: 0.7059\n",
      "Epoch 3/20\n",
      "34/34 [==============================] - 0s 2ms/step - loss: 0.5901 - accuracy: 0.7059\n",
      "Epoch 4/20\n",
      "34/34 [==============================] - 0s 2ms/step - loss: 0.5758 - accuracy: 0.7059\n",
      "Epoch 5/20\n",
      "34/34 [==============================] - 0s 2ms/step - loss: 0.5588 - accuracy: 0.7059\n",
      "Epoch 6/20\n",
      "34/34 [==============================] - 0s 2ms/step - loss: 0.5317 - accuracy: 0.7059\n",
      "Epoch 7/20\n",
      "34/34 [==============================] - 0s 2ms/step - loss: 0.4885 - accuracy: 0.7059\n",
      "Epoch 8/20\n",
      "34/34 [==============================] - 0s 2ms/step - loss: 0.4335 - accuracy: 0.7059\n",
      "Epoch 9/20\n",
      "34/34 [==============================] - 0s 2ms/step - loss: 0.3800 - accuracy: 0.7294\n",
      "Epoch 10/20\n",
      "34/34 [==============================] - 0s 2ms/step - loss: 0.3234 - accuracy: 0.8765\n",
      "Epoch 11/20\n",
      "34/34 [==============================] - 0s 2ms/step - loss: 0.2771 - accuracy: 0.9059\n",
      "Epoch 12/20\n",
      "34/34 [==============================] - 0s 2ms/step - loss: 0.2185 - accuracy: 0.9529\n",
      "Epoch 13/20\n",
      "34/34 [==============================] - 0s 2ms/step - loss: 0.1486 - accuracy: 0.9706\n",
      "Epoch 14/20\n",
      "34/34 [==============================] - 0s 2ms/step - loss: 0.1134 - accuracy: 0.9765\n",
      "Epoch 15/20\n",
      "34/34 [==============================] - 0s 2ms/step - loss: 0.0774 - accuracy: 0.9765\n",
      "Epoch 16/20\n",
      "34/34 [==============================] - 0s 2ms/step - loss: 0.0583 - accuracy: 0.9941\n",
      "Epoch 17/20\n",
      "34/34 [==============================] - 0s 2ms/step - loss: 0.0469 - accuracy: 0.9941\n",
      "Epoch 18/20\n",
      "34/34 [==============================] - 0s 2ms/step - loss: 0.0406 - accuracy: 0.9941\n",
      "Epoch 19/20\n",
      "34/34 [==============================] - 0s 2ms/step - loss: 0.0450 - accuracy: 0.9882\n",
      "Epoch 20/20\n",
      "34/34 [==============================] - 0s 2ms/step - loss: 0.0346 - accuracy: 1.0000\n"
     ]
    },
    {
     "data": {
      "text/plain": [
       "<keras.src.callbacks.History at 0x1e4697b7ad0>"
      ]
     },
     "execution_count": 12,
     "metadata": {},
     "output_type": "execute_result"
    }
   ],
   "source": [
    "word2vec = word2vec_model(sentences) # ajarin model sentence word2vec\n",
    "X_train_avg = get_avg_word_vectors(sentences, word2vec)\n",
    "model = build_model(input_dim=X_train_avg.shape[1])\n",
    "model.fit(X_train_avg, np.array(labels), batch_size=5, epochs=20, verbose=1)"
   ]
  },
  {
   "cell_type": "code",
   "execution_count": 13,
   "metadata": {},
   "outputs": [
    {
     "name": "stderr",
     "output_type": "stream",
     "text": [
      "c:\\Users\\muham\\AppData\\Local\\Programs\\Python\\Python311\\Lib\\site-packages\\keras\\src\\engine\\training.py:3000: UserWarning: You are saving your model as an HDF5 file via `model.save()`. This file format is considered legacy. We recommend using instead the native Keras format, e.g. `model.save('my_model.keras')`.\n",
      "  saving_api.save_model(\n"
     ]
    }
   ],
   "source": [
    "# Save model\n",
    "model.save(\"bisaDibaca.h5\")\n",
    "word2vec.save(\"bisaDibaca.bin\")"
   ]
  },
  {
   "cell_type": "code",
   "execution_count": 15,
   "metadata": {},
   "outputs": [
    {
     "name": "stdout",
     "output_type": "stream",
     "text": [
      "1/1 [==============================] - 0s 61ms/step\n",
      "melihat layar komputer dengan dekat dapat tidak merusak mata secara permanen [0.99976337]\n",
      "121321 dknn 32982 n3jn2j281 356n469v c9di9v [0.08073418]\n",
      "dfaskfjasdjfasmdcasonsn kdcsanco dndsnfoinasdnf ndjnacznjdnsia ewjnwfndds icdo [0.08073418]\n"
     ]
    }
   ],
   "source": [
    "# Coba hasil\n",
    "loaded_model = load_model(\"bisaDibaca.h5\")\n",
    "w2vmodel = gensim.models.Word2Vec.load(\"bisaDibaca.bin\")\n",
    "\n",
    "# Now you can use the loaded_model for predictions\n",
    "new_sentences = ['melihat layar komputer dengan dekat dapat tidak merusak mata secara permanen', \n",
    "                 '121321 dknn 32982 n3jn2j281 356n469v c9di9v',\n",
    "                 'dfaskfjasdjfasmdcasonsn kdcsanco dndsnfoinasdnf ndjnacznjdnsia ewjnwfndds icdo']\n",
    "new_vectors = get_avg_word_vectors(new_sentences, w2vmodel)\n",
    "predictions = loaded_model.predict(new_vectors)\n",
    "\n",
    "for sentence, prediction in zip(new_sentences, predictions):\n",
    "    sentiment = \"Positive\" if prediction[0] == 1 else \"Negative\"\n",
    "    print(sentence, prediction)\n",
    "    # print(f\"Sentence: {sentence} - Sentiment: {sentiment}\")"
   ]
  },
  {
   "cell_type": "code",
   "execution_count": null,
   "metadata": {},
   "outputs": [],
   "source": []
  }
 ],
 "metadata": {
  "kernelspec": {
   "display_name": "Python 3",
   "language": "python",
   "name": "python3"
  },
  "language_info": {
   "codemirror_mode": {
    "name": "ipython",
    "version": 3
   },
   "file_extension": ".py",
   "mimetype": "text/x-python",
   "name": "python",
   "nbconvert_exporter": "python",
   "pygments_lexer": "ipython3",
   "version": "3.11.4"
  },
  "orig_nbformat": 4
 },
 "nbformat": 4,
 "nbformat_minor": 2
}
