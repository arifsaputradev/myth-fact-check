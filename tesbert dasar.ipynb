{
 "cells": [
  {
   "cell_type": "code",
   "execution_count": null,
   "id": "f8c53691",
   "metadata": {},
   "outputs": [],
   "source": [
    "mitos = [\"Menggunakan kacamata atau lensa kontak terlalu sering dapat membuat mata malas. Faktanya, kacamata atau lensa kontak membantu memperbaiki gangguan penglihatan dan mencegah masalah lebih lanjut.\",\n",
    "\"Duduk terlalu dekat dengan layar komputer dapat merusak penglihatan. Meskipun dapat menyebabkan ketegangan mata, posisi duduk dekat dengan layar tidak merusak mata secara permanen.\",\n",
    "\"Menggunakan wortel secara berlebihan akan meningkatkan penglihatan dengan cepat. Sementara wortel mengandung vitamin A yang baik untuk mata, konsumsi berlebihan tidak meningkatkan penglihatan.\",\n",
    "\"Bersepeda dapat menyebabkan kebutaan. Ini adalah mitos; bersepeda sebenarnya adalah kegiatan yang baik untuk kesehatan secara keseluruhan, termasuk kesehatan mata.\",\n",
    "\"Mata hanya perlu diperiksa jika ada masalah penglihatan. Tes mata secara berkala penting untuk mendeteksi masalah mata sejak dini, bahkan jika Anda tidak mengalami gejala.\",\n",
    "\"Menggunakan tetes mata secara berlebihan dapat menyebabkan ketergantungan. Menggunakan tetes mata sesuai petunjuk dokter tidak menyebabkan ketergantungan.\",\n",
    "\"Membaca dalam cahaya redup akan merusak mata. Ini hanya menyebabkan ketegangan mata sementara, tetapi tidak merusak mata secara permanen.\",\n",
    "\"Menggosok mata saat gatal dapat menyebabkan penyebaran infeksi. Menggosok mata yang gatal dapat menyebabkan infeksi jika tangan Anda kotor, tetapi bukan karena tindakan menggosoknya itu sendiri.\",\n",
    "\"Mata harus beristirahat sebentar setelah melihat layar komputer. Meskipun istirahat adalah ide yang baik, tidak ada bukti bahwa istirahat sebentar setelah melihat layar akan memperbaiki masalah penglihatan.\",\n",
    "\"Terlalu banyak membaca dalam cahaya rendah atau membaca dengan buruk dapat merusak mata. Meskipun membaca dalam kondisi pencahayaan yang buruk dapat menyebabkan ketegangan mata sementara, itu tidak akan merusak mata secara permanen.\",\n",
    "]\n",
    "\n",
    "fakta = [\"Paparan sinar ultraviolet (UV) dari sinar matahari dapat menyebabkan kerusakan mata. Penggunaan kacamata hitam yang memiliki perlindungan UV dapat membantu mengurangi risiko ini.\",\n",
    "\"Diabetes dapat mempengaruhi kesehatan mata. Kondisi ini dapat menyebabkan retinopati diabetik, yaitu kerusakan pembuluh darah pada retina yang dapat mengganggu penglihatan.\",\n",
    "\"Perubahan penglihatan terjadi secara alami seiring bertambahnya usia. Ini termasuk presbyopia, yang menyebabkan kesulitan melihat objek dekat pada usia lanjut.\",\n",
    "\"Merokok dapat meningkatkan risiko terjadinya katarak dan degenerasi makula, dua kondisi mata yang dapat menyebabkan kehilangan penglihatan.\",\n",
    "\"Konsumsi makanan bergizi, seperti makanan kaya vitamin A, C, E, dan mineral seperti seng, dapat membantu menjaga kesehatan mata.\",\n",
    "\"Mata kering adalah kondisi yang umum terjadi, terutama pada mereka yang banyak bekerja di depan layar komputer. Istirahat reguler dan tetes mata bisa membantu mengurangi ketidaknyamanan mata kering.\",\n",
    "\"Penggunaan komputer dan perangkat elektronik lainnya dalam jangka waktu yang lama dapat menyebabkan Computer Vision Syndrome (CVS), menyebabkan gejala seperti mata kering, sakit kepala, dan ketegangan leher.\",\n",
    "\"Bentuk fisik mata setiap orang berbeda. Ada tiga tipe mata utama: mata datar, mata cekung, dan mata normal. Ini dapat mempengaruhi pemilihan kacamata atau lensa kontak yang tepat.\",\n",
    "\"Kacamata hitam yang baik melindungi mata dari sinar UV dan meminimalkan paparan sinar biru dari layar komputer atau perangkat elektronik lainnya.\",\n",
    "\"Deteksi dini adalah kunci untuk mencegah banyak masalah mata yang serius. Berkunjung ke dokter mata secara berkala dapat membantu mendeteksi dan mengatasi masalah mata sejak dini.\"\n",
    "]"
   ]
  },
  {
   "cell_type": "code",
   "execution_count": 1,
   "id": "8433488c",
   "metadata": {},
   "outputs": [],
   "source": [
    "import joblib\n",
    "import tensorflow as tf\n",
    "import numpy as np\n",
    "import random\n",
    "from transformers import BertTokenizer, TFBertModel\n",
    "from tensorflow.keras.layers import Input, Dense\n",
    "from tensorflow.keras.models import Model\n",
    "from tensorflow.keras.optimizers import Adam\n",
    "from tensorflow.keras.wrappers.scikit_learn import KerasClassifier"
   ]
  },
  {
   "cell_type": "code",
   "execution_count": 2,
   "id": "3d5fd690",
   "metadata": {},
   "outputs": [
    {
     "name": "stderr",
     "output_type": "stream",
     "text": [
      "Some weights of the PyTorch model were not used when initializing the TF 2.0 model TFBertModel: ['cls.seq_relationship.bias', 'cls.predictions.transform.LayerNorm.weight', 'cls.predictions.transform.dense.bias', 'cls.seq_relationship.weight', 'cls.predictions.bias', 'cls.predictions.transform.LayerNorm.bias', 'cls.predictions.transform.dense.weight']\n",
      "- This IS expected if you are initializing TFBertModel from a PyTorch model trained on another task or with another architecture (e.g. initializing a TFBertForSequenceClassification model from a BertForPreTraining model).\n",
      "- This IS NOT expected if you are initializing TFBertModel from a PyTorch model that you expect to be exactly identical (e.g. initializing a TFBertForSequenceClassification model from a BertForSequenceClassification model).\n",
      "All the weights of TFBertModel were initialized from the PyTorch model.\n",
      "If your task is similar to the task the model of the checkpoint was trained on, you can already use TFBertModel for predictions without further training.\n"
     ]
    }
   ],
   "source": [
    "tokenizer = BertTokenizer.from_pretrained('bert-base-uncased')\n",
    "bert_model = TFBertModel.from_pretrained('bert-base-uncased')"
   ]
  },
  {
   "cell_type": "code",
   "execution_count": 3,
   "id": "c95e44fc",
   "metadata": {},
   "outputs": [],
   "source": [
    "texts = [\"This is a positive sentence.\", \"This is a negative sentence.\"]\n",
    "labels = [1, 0]"
   ]
  },
  {
   "cell_type": "code",
   "execution_count": 4,
   "id": "bd0f1dd8",
   "metadata": {},
   "outputs": [],
   "source": [
    "def clean_and_lower(text):\n",
    "    cleaned_text = ''.join(char.lower() for char in text if char.isalnum() or char.isspace())\n",
    "    return cleaned_text"
   ]
  },
  {
   "cell_type": "code",
   "execution_count": 5,
   "id": "20b162eb",
   "metadata": {},
   "outputs": [],
   "source": [
    "# labelledMitos = [(kalimat, 0) for kalimat in mitos]\n",
    "# labelledFakta = [(kalimat, 1) for kalimat in fakta]\n",
    "# print(labelledMitos[0])\n",
    "# print(labelledFakta[0])"
   ]
  },
  {
   "cell_type": "code",
   "execution_count": 6,
   "id": "34121b50",
   "metadata": {},
   "outputs": [],
   "source": [
    "# data = labelledMitos + labelledFakta\n",
    "# random.shuffle(data)\n",
    "# print(data[0])"
   ]
  },
  {
   "cell_type": "code",
   "execution_count": 7,
   "id": "3d0cc3e2",
   "metadata": {},
   "outputs": [],
   "source": [
    "# cleanData = [(clean_and_lower(attr), label) for attr, label in data]\n",
    "# random.shuffle(cleanData)\n",
    "# print(cleanData[0])"
   ]
  },
  {
   "cell_type": "code",
   "execution_count": 8,
   "id": "4614b2d3",
   "metadata": {},
   "outputs": [],
   "source": [
    "# cleanAttr = [data for data, label in cleanData]\n",
    "# cleanLabel = [label for data, label in cleanData]\n",
    "# print(cleanAttr[0])\n",
    "# print(cleanLabel[0])"
   ]
  },
  {
   "cell_type": "code",
   "execution_count": 9,
   "id": "e797eac8",
   "metadata": {},
   "outputs": [],
   "source": [
    "inputs = tokenizer(texts, padding=True, truncation=True, return_tensors=\"tf\")\n",
    "input_ids = inputs[\"input_ids\"].numpy()\n",
    "labels = np.array(labels)\n",
    "outputs = bert_model(inputs)\n"
   ]
  },
  {
   "cell_type": "code",
   "execution_count": 10,
   "id": "726e0df9",
   "metadata": {},
   "outputs": [],
   "source": [
    "# Create a simple classification head on top of BERT\n",
    "input_layer = Input(shape=(inputs[\"input_ids\"].shape[1],), dtype=tf.int32)\n",
    "bert_embedding = bert_model(input_layer)[\"pooler_output\"]\n",
    "output_layer = Dense(1, activation='sigmoid')(bert_embedding)"
   ]
  },
  {
   "cell_type": "code",
   "execution_count": 11,
   "id": "28c06c6d",
   "metadata": {},
   "outputs": [],
   "source": [
    "model = Model(inputs=input_layer, outputs=output_layer)\n",
    "\n",
    "# Compile the model\n",
    "model.compile(optimizer=Adam(learning_rate=2e-5), loss='binary_crossentropy', metrics=['accuracy'])"
   ]
  },
  {
   "cell_type": "code",
   "execution_count": 12,
   "id": "e24eb1e4",
   "metadata": {},
   "outputs": [
    {
     "name": "stdout",
     "output_type": "stream",
     "text": [
      "Epoch 1/3\n",
      "1/1 [==============================] - 31s 31s/step - loss: 1.0487 - accuracy: 0.5000\n",
      "Epoch 2/3\n",
      "1/1 [==============================] - 1s 1s/step - loss: 0.9575 - accuracy: 0.5000\n",
      "Epoch 3/3\n",
      "1/1 [==============================] - 2s 2s/step - loss: 0.8660 - accuracy: 0.5000\n"
     ]
    },
    {
     "data": {
      "text/plain": [
       "<keras.callbacks.History at 0x1d3a6d57820>"
      ]
     },
     "execution_count": 12,
     "metadata": {},
     "output_type": "execute_result"
    }
   ],
   "source": [
    "model.fit(input_ids, labels, epochs=3, batch_size=2)"
   ]
  },
  {
   "cell_type": "code",
   "execution_count": null,
   "id": "8bfe57b9",
   "metadata": {},
   "outputs": [],
   "source": [
    "print(type(inputs[\"input_ids\"]))"
   ]
  },
  {
   "cell_type": "code",
   "execution_count": null,
   "metadata": {},
   "outputs": [],
   "source": []
  }
 ],
 "metadata": {
  "kernelspec": {
   "display_name": "Python 3 (ipykernel)",
   "language": "python",
   "name": "python3"
  },
  "language_info": {
   "codemirror_mode": {
    "name": "ipython",
    "version": 3
   },
   "file_extension": ".py",
   "mimetype": "text/x-python",
   "name": "python",
   "nbconvert_exporter": "python",
   "pygments_lexer": "ipython3",
   "version": "3.10.0"
  }
 },
 "nbformat": 4,
 "nbformat_minor": 5
}
