{
 "cells": [
  {
   "cell_type": "code",
   "execution_count": null,
   "id": "bd0af794",
   "metadata": {},
   "outputs": [],
   "source": [
    "mitos = [\"Menggunakan kacamata atau lensa kontak terlalu sering dapat membuat mata malas. Faktanya, kacamata atau lensa kontak membantu memperbaiki gangguan penglihatan dan mencegah masalah lebih lanjut.\",\n",
    "\"Duduk terlalu dekat dengan layar komputer dapat merusak penglihatan. Meskipun dapat menyebabkan ketegangan mata, posisi duduk dekat dengan layar tidak merusak mata secara permanen.\",\n",
    "\"Menggunakan wortel secara berlebihan akan meningkatkan penglihatan dengan cepat. Sementara wortel mengandung vitamin A yang baik untuk mata, konsumsi berlebihan tidak meningkatkan penglihatan.\",\n",
    "\"Bersepeda dapat menyebabkan kebutaan. Ini adalah mitos; bersepeda sebenarnya adalah kegiatan yang baik untuk kesehatan secara keseluruhan, termasuk kesehatan mata.\",\n",
    "\"Mata hanya perlu diperiksa jika ada masalah penglihatan. Tes mata secara berkala penting untuk mendeteksi masalah mata sejak dini, bahkan jika Anda tidak mengalami gejala.\",\n",
    "\"Menggunakan tetes mata secara berlebihan dapat menyebabkan ketergantungan. Menggunakan tetes mata sesuai petunjuk dokter tidak menyebabkan ketergantungan.\",\n",
    "\"Membaca dalam cahaya redup akan merusak mata. Ini hanya menyebabkan ketegangan mata sementara, tetapi tidak merusak mata secara permanen.\",\n",
    "\"Menggosok mata saat gatal dapat menyebabkan penyebaran infeksi. Menggosok mata yang gatal dapat menyebabkan infeksi jika tangan Anda kotor, tetapi bukan karena tindakan menggosoknya itu sendiri.\",\n",
    "\"Mata harus beristirahat sebentar setelah melihat layar komputer. Meskipun istirahat adalah ide yang baik, tidak ada bukti bahwa istirahat sebentar setelah melihat layar akan memperbaiki masalah penglihatan.\",\n",
    "\"Terlalu banyak membaca dalam cahaya rendah atau membaca dengan buruk dapat merusak mata. Meskipun membaca dalam kondisi pencahayaan yang buruk dapat menyebabkan ketegangan mata sementara, itu tidak akan merusak mata secara permanen.\",\n",
    "]\n",
    "\n",
    "fakta = [\"Paparan sinar ultraviolet (UV) dari sinar matahari dapat menyebabkan kerusakan mata. Penggunaan kacamata hitam yang memiliki perlindungan UV dapat membantu mengurangi risiko ini.\",\n",
    "\"Diabetes dapat mempengaruhi kesehatan mata. Kondisi ini dapat menyebabkan retinopati diabetik, yaitu kerusakan pembuluh darah pada retina yang dapat mengganggu penglihatan.\",\n",
    "\"Perubahan penglihatan terjadi secara alami seiring bertambahnya usia. Ini termasuk presbyopia, yang menyebabkan kesulitan melihat objek dekat pada usia lanjut.\",\n",
    "\"Merokok dapat meningkatkan risiko terjadinya katarak dan degenerasi makula, dua kondisi mata yang dapat menyebabkan kehilangan penglihatan.\",\n",
    "\"Konsumsi makanan bergizi, seperti makanan kaya vitamin A, C, E, dan mineral seperti seng, dapat membantu menjaga kesehatan mata.\",\n",
    "\"Mata kering adalah kondisi yang umum terjadi, terutama pada mereka yang banyak bekerja di depan layar komputer. Istirahat reguler dan tetes mata bisa membantu mengurangi ketidaknyamanan mata kering.\",\n",
    "\"Penggunaan komputer dan perangkat elektronik lainnya dalam jangka waktu yang lama dapat menyebabkan Computer Vision Syndrome (CVS), menyebabkan gejala seperti mata kering, sakit kepala, dan ketegangan leher.\",\n",
    "\"Bentuk fisik mata setiap orang berbeda. Ada tiga tipe mata utama: mata datar, mata cekung, dan mata normal. Ini dapat mempengaruhi pemilihan kacamata atau lensa kontak yang tepat.\",\n",
    "\"Kacamata hitam yang baik melindungi mata dari sinar UV dan meminimalkan paparan sinar biru dari layar komputer atau perangkat elektronik lainnya.\",\n",
    "\"Deteksi dini adalah kunci untuk mencegah banyak masalah mata yang serius. Berkunjung ke dokter mata secara berkala dapat membantu mendeteksi dan mengatasi masalah mata sejak dini.\"\n",
    "]"
   ]
  },
  {
   "cell_type": "code",
   "execution_count": 1,
   "id": "a9af2473",
   "metadata": {},
   "outputs": [],
   "source": [
    "import nltk\n",
    "import random\n",
    "import string\n",
    "from nltk.corpus import movie_reviews\n",
    "from nltk.tokenize import word_tokenize\n",
    "from sklearn.model_selection import train_test_split\n",
    "from sklearn.feature_extraction.text import TfidfVectorizer\n",
    "from sklearn.naive_bayes import MultinomialNB\n",
    "from sklearn.metrics import accuracy_score, classification_report, confusion_matrix\n",
    "import numpy as np\n",
    "from gensim.models import Word2Vec\n",
    "from sklearn.ensemble import RandomForestClassifier\n",
    "import joblib\n",
    "import gensim\n",
    "from sklearn.preprocessing import LabelEncoder\n",
    "from sklearn.metrics import accuracy_score\n",
    "from keras.models import Sequential\n",
    "from keras.layers import Dense, Embedding, Flatten"
   ]
  },
  {
   "cell_type": "code",
   "execution_count": null,
   "id": "10b17ee9",
   "metadata": {},
   "outputs": [],
   "source": [
    "# Semua def function\n",
    "def clean_and_lower(text):\n",
    "    cleaned_text = ''.join(char.lower() for char in text if char.isalnum() or char.isspace())\n",
    "    return cleaned_text"
   ]
  },
  {
   "cell_type": "code",
   "execution_count": null,
   "id": "f8597ea1",
   "metadata": {},
   "outputs": [],
   "source": [
    "# Kasih target setiap kalimat, 0 = mitos, 1 = fakta\n",
    "labelledMitos = [(kalimat, 0) for kalimat in mitos]\n",
    "labelledFakta = [(kalimat, 1) for kalimat in fakta]\n",
    "print(labelledMitos[0])\n",
    "print(labelledFakta[0])"
   ]
  },
  {
   "cell_type": "code",
   "execution_count": null,
   "id": "66a3510d",
   "metadata": {},
   "outputs": [],
   "source": [
    "# gabung fakta dan mitos, lalu shuffle\n",
    "trainData = labelledMitos + labelledFakta\n",
    "random.shuffle(trainData)\n",
    "print(trainData[0])"
   ]
  },
  {
   "cell_type": "code",
   "execution_count": null,
   "id": "e54c9f01",
   "metadata": {},
   "outputs": [],
   "source": [
    "# preprocess, hilangkan yang bukan alpha numerik dan lower\n",
    "cleanData = [(clean_and_lower(kalimat), label) for kalimat, label in trainData]\n",
    "random.shuffle(cleanData)\n",
    "print(cleanData[0])"
   ]
  },
  {
   "cell_type": "code",
   "execution_count": null,
   "id": "ff9eadf0",
   "metadata": {},
   "outputs": [],
   "source": [
    "# sentences = [item[0].split() for item in cleanData]\n",
    "# labels = [int(item[1]) for item in cleanData]\n",
    "# print(sentences)\n",
    "# print(labels)\n",
    "\n",
    "# Pisahkan antara attribut dan label\n",
    "sentences = [data for data, label in cleanData]\n",
    "labels = [label for data, label in cleanData]\n",
    "print(len(sentences))\n",
    "print(labels[0])"
   ]
  },
  {
   "cell_type": "code",
   "execution_count": null,
   "id": "78d1f1b5",
   "metadata": {},
   "outputs": [],
   "source": [
    "import gensim\n",
    "import numpy as np\n",
    "from sklearn.model_selection import train_test_split\n",
    "from sklearn.preprocessing import LabelEncoder\n",
    "from sklearn.metrics import accuracy_score\n",
    "from keras.models import Sequential\n",
    "from keras.layers import Dense, Embedding, Flatten\n",
    "\n",
    "# Sample data\n",
    "data = [('This is positive sentence!', 1), ('This is negative sentence!', 0)]\n",
    "\n",
    "# Split data into sentences and labels\n",
    "sentences = [item[0] for item in data]\n",
    "labels = [item[1] for item in data]\n",
    "\n",
    "# Preprocessing\n",
    "X_train, X_test, y_train, y_test = train_test_split(sentences, labels, test_size=0.2, random_state=42)\n",
    "\n",
    "# Word2Vec Model\n",
    "def word2vec_model(sentences):\n",
    "    words = [sentence.split() for sentence in sentences]\n",
    "    model = gensim.models.Word2Vec(words, vector_size=100, window=5, min_count=1, workers=4)\n",
    "    return model\n",
    "\n",
    "# Convert sentences to average word vectors\n",
    "def get_avg_word_vectors(sentences, model):\n",
    "    avg_vectors = []\n",
    "    for sentence in sentences:\n",
    "        vectors = []\n",
    "        for word in sentence.split():\n",
    "            if word in model.wv:\n",
    "                vectors.append(model.wv[word])\n",
    "        if vectors:\n",
    "            avg_vectors.append(np.mean(vectors, axis=0))\n",
    "        else:\n",
    "            avg_vectors.append(np.zeros(model.vector_size))\n",
    "    return np.array(avg_vectors)\n",
    "\n",
    "# Build and train a simple neural network\n",
    "def build_model(input_dim):\n",
    "    model = Sequential()\n",
    "    model.add(Dense(128, input_dim=input_dim, activation='relu'))\n",
    "    model.add(Dense(64, activation='relu'))\n",
    "    model.add(Dense(1, activation='sigmoid'))\n",
    "    model.compile(loss='binary_crossentropy', optimizer='adam', metrics=['accuracy'])\n",
    "    return model\n",
    "\n",
    "# Train and evaluate the model\n",
    "word2vec = word2vec_model(X_train)\n",
    "X_train_avg = get_avg_word_vectors(X_train, word2vec)\n",
    "X_test_avg = get_avg_word_vectors(X_test, word2vec)\n",
    "\n",
    "model = build_model(input_dim=X_train_avg.shape[1])\n",
    "model.fit(X_train_avg, np.array(y_train), epochs=10, verbose=1)\n",
    "y_pred = model.predict(X_test_avg)\n",
    "print(y_pred)\n",
    "# accuracy = accuracy_score(y_test, y_pred)\n",
    "# print(f\"Test Accuracy: {accuracy:.4f}\")\n"
   ]
  },
  {
   "cell_type": "code",
   "execution_count": null,
   "id": "04ad201f",
   "metadata": {},
   "outputs": [],
   "source": [
    "# model.save(\"cobamodel.h5\")"
   ]
  },
  {
   "cell_type": "code",
   "execution_count": 3,
   "id": "cd1cca6c",
   "metadata": {},
   "outputs": [],
   "source": [
    "def get_avg_word_vectors(sentences, model):\n",
    "    avg_vectors = []\n",
    "    for sentence in sentences:\n",
    "        vectors = []\n",
    "        for word in sentence.split():\n",
    "            if word in model.wv:\n",
    "                vectors.append(model.wv[word])\n",
    "        if vectors:\n",
    "            avg_vectors.append(np.mean(vectors, axis=0))\n",
    "        else:\n",
    "            avg_vectors.append(np.zeros(model.vector_size))\n",
    "    return np.array(avg_vectors)"
   ]
  },
  {
   "cell_type": "code",
   "execution_count": 4,
   "id": "e9f97cd3",
   "metadata": {},
   "outputs": [
    {
     "name": "stdout",
     "output_type": "stream",
     "text": [
      "1/1 [==============================] - 0s 246ms/step\n",
      "0.52177525\n",
      "Sentence: Another positive sentence! - Sentiment: Negative\n",
      "0.51980525\n",
      "Sentence: Yet another negative sentence! - Sentiment: Negative\n"
     ]
    }
   ],
   "source": [
    "from keras.models import load_model\n",
    "loaded_model = load_model(\"cobamodel.h5\")\n",
    "w2vmodel = gensim.models.Word2Vec.load(\"w2v.bin\")\n",
    "\n",
    "# Now you can use the loaded_model for predictions\n",
    "new_sentences = ['Another positive sentence!', 'Yet another negative sentence!']\n",
    "new_vectors = get_avg_word_vectors(new_sentences, w2vmodel)\n",
    "predictions = loaded_model.predict(new_vectors)\n",
    "\n",
    "for sentence, prediction in zip(new_sentences, predictions):\n",
    "    sentiment = \"Positive\" if prediction[0] == 1 else \"Negative\"\n",
    "    print(prediction[0])\n",
    "    print(f\"Sentence: {sentence} - Sentiment: {sentiment}\")"
   ]
  },
  {
   "cell_type": "code",
   "execution_count": null,
   "id": "a1f1374f",
   "metadata": {},
   "outputs": [],
   "source": [
    "word2vec.save(\"w2v.bin\")"
   ]
  },
  {
   "cell_type": "code",
   "execution_count": null,
   "id": "a144bc31",
   "metadata": {},
   "outputs": [],
   "source": []
  }
 ],
 "metadata": {
  "kernelspec": {
   "display_name": "Python 3 (ipykernel)",
   "language": "python",
   "name": "python3"
  },
  "language_info": {
   "codemirror_mode": {
    "name": "ipython",
    "version": 3
   },
   "file_extension": ".py",
   "mimetype": "text/x-python",
   "name": "python",
   "nbconvert_exporter": "python",
   "pygments_lexer": "ipython3",
   "version": "3.10.0"
  }
 },
 "nbformat": 4,
 "nbformat_minor": 5
}
