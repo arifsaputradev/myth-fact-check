{
 "cells": [
  {
   "cell_type": "code",
   "execution_count": 1,
   "id": "f8c53691",
   "metadata": {},
   "outputs": [],
   "source": [
    "mitos = [\"Menggunakan kacamata atau lensa kontak terlalu sering dapat membuat mata malas. Faktanya, kacamata atau lensa kontak membantu memperbaiki gangguan penglihatan dan mencegah masalah lebih lanjut.\",\n",
    "\"Duduk terlalu dekat dengan layar komputer dapat merusak penglihatan. Meskipun dapat menyebabkan ketegangan mata, posisi duduk dekat dengan layar tidak merusak mata secara permanen.\",\n",
    "\"Menggunakan wortel secara berlebihan akan meningkatkan penglihatan dengan cepat. Sementara wortel mengandung vitamin A yang baik untuk mata, konsumsi berlebihan tidak meningkatkan penglihatan.\",\n",
    "\"Bersepeda dapat menyebabkan kebutaan. Ini adalah mitos; bersepeda sebenarnya adalah kegiatan yang baik untuk kesehatan secara keseluruhan, termasuk kesehatan mata.\",\n",
    "\"Mata hanya perlu diperiksa jika ada masalah penglihatan. Tes mata secara berkala penting untuk mendeteksi masalah mata sejak dini, bahkan jika Anda tidak mengalami gejala.\",\n",
    "\"Menggunakan tetes mata secara berlebihan dapat menyebabkan ketergantungan. Menggunakan tetes mata sesuai petunjuk dokter tidak menyebabkan ketergantungan.\",\n",
    "\"Membaca dalam cahaya redup akan merusak mata. Ini hanya menyebabkan ketegangan mata sementara, tetapi tidak merusak mata secara permanen.\",\n",
    "\"Menggosok mata saat gatal dapat menyebabkan penyebaran infeksi. Menggosok mata yang gatal dapat menyebabkan infeksi jika tangan Anda kotor, tetapi bukan karena tindakan menggosoknya itu sendiri.\",\n",
    "\"Mata harus beristirahat sebentar setelah melihat layar komputer. Meskipun istirahat adalah ide yang baik, tidak ada bukti bahwa istirahat sebentar setelah melihat layar akan memperbaiki masalah penglihatan.\",\n",
    "\"Terlalu banyak membaca dalam cahaya rendah atau membaca dengan buruk dapat merusak mata. Meskipun membaca dalam kondisi pencahayaan yang buruk dapat menyebabkan ketegangan mata sementara, itu tidak akan merusak mata secara permanen.\",\n",
    "]\n",
    "\n",
    "fakta = [\"Paparan sinar ultraviolet (UV) dari sinar matahari dapat menyebabkan kerusakan mata. Penggunaan kacamata hitam yang memiliki perlindungan UV dapat membantu mengurangi risiko ini.\",\n",
    "\"Diabetes dapat mempengaruhi kesehatan mata. Kondisi ini dapat menyebabkan retinopati diabetik, yaitu kerusakan pembuluh darah pada retina yang dapat mengganggu penglihatan.\",\n",
    "\"Perubahan penglihatan terjadi secara alami seiring bertambahnya usia. Ini termasuk presbyopia, yang menyebabkan kesulitan melihat objek dekat pada usia lanjut.\",\n",
    "\"Merokok dapat meningkatkan risiko terjadinya katarak dan degenerasi makula, dua kondisi mata yang dapat menyebabkan kehilangan penglihatan.\",\n",
    "\"Konsumsi makanan bergizi, seperti makanan kaya vitamin A, C, E, dan mineral seperti seng, dapat membantu menjaga kesehatan mata.\",\n",
    "\"Mata kering adalah kondisi yang umum terjadi, terutama pada mereka yang banyak bekerja di depan layar komputer. Istirahat reguler dan tetes mata bisa membantu mengurangi ketidaknyamanan mata kering.\",\n",
    "\"Penggunaan komputer dan perangkat elektronik lainnya dalam jangka waktu yang lama dapat menyebabkan Computer Vision Syndrome (CVS), menyebabkan gejala seperti mata kering, sakit kepala, dan ketegangan leher.\",\n",
    "\"Bentuk fisik mata setiap orang berbeda. Ada tiga tipe mata utama: mata datar, mata cekung, dan mata normal. Ini dapat mempengaruhi pemilihan kacamata atau lensa kontak yang tepat.\",\n",
    "\"Kacamata hitam yang baik melindungi mata dari sinar UV dan meminimalkan paparan sinar biru dari layar komputer atau perangkat elektronik lainnya.\",\n",
    "\"Deteksi dini adalah kunci untuk mencegah banyak masalah mata yang serius. Berkunjung ke dokter mata secara berkala dapat membantu mendeteksi dan mengatasi masalah mata sejak dini.\"\n",
    "]"
   ]
  },
  {
   "cell_type": "code",
   "execution_count": 2,
   "id": "8433488c",
   "metadata": {},
   "outputs": [],
   "source": [
    "import nltk\n",
    "import random\n",
    "import string\n",
    "from nltk.corpus import movie_reviews\n",
    "from nltk.tokenize import word_tokenize\n",
    "from sklearn.model_selection import train_test_split\n",
    "from sklearn.feature_extraction.text import TfidfVectorizer\n",
    "from sklearn.naive_bayes import MultinomialNB\n",
    "from sklearn.metrics import accuracy_score, classification_report, confusion_matrix\n",
    "from sklearn.ensemble import RandomForestClassifier\n",
    "import joblib"
   ]
  },
  {
   "cell_type": "code",
   "execution_count": 3,
   "id": "dfc8b7e6",
   "metadata": {},
   "outputs": [],
   "source": [
    "random.shuffle(mitos)\n",
    "random.shuffle(fakta)"
   ]
  },
  {
   "cell_type": "code",
   "execution_count": 4,
   "id": "0cfbcd92",
   "metadata": {},
   "outputs": [
    {
     "name": "stdout",
     "output_type": "stream",
     "text": [
      "('Menggosok mata saat gatal dapat menyebabkan penyebaran infeksi. Menggosok mata yang gatal dapat menyebabkan infeksi jika tangan Anda kotor, tetapi bukan karena tindakan menggosoknya itu sendiri.', 'mitos')\n",
      "('Konsumsi makanan bergizi, seperti makanan kaya vitamin A, C, E, dan mineral seperti seng, dapat membantu menjaga kesehatan mata.', 'fakta')\n"
     ]
    }
   ],
   "source": [
    "newMitos = [(here, \"mitos\") for here in mitos]\n",
    "print(newMitos[0])\n",
    "newFakta = [(here, \"fakta\") for here in fakta]\n",
    "print(newFakta[0])"
   ]
  },
  {
   "cell_type": "code",
   "execution_count": 5,
   "id": "e03dbe6b",
   "metadata": {},
   "outputs": [
    {
     "name": "stdout",
     "output_type": "stream",
     "text": [
      "[('Diabetes dapat mempengaruhi kesehatan mata. Kondisi ini dapat menyebabkan retinopati diabetik, yaitu kerusakan pembuluh darah pada retina yang dapat mengganggu penglihatan.', 'fakta'), ('Deteksi dini adalah kunci untuk mencegah banyak masalah mata yang serius. Berkunjung ke dokter mata secara berkala dapat membantu mendeteksi dan mengatasi masalah mata sejak dini.', 'fakta')]\n"
     ]
    }
   ],
   "source": [
    "data = newMitos + newFakta\n",
    "random.shuffle(data)\n",
    "print(data[0:2])"
   ]
  },
  {
   "cell_type": "code",
   "execution_count": 6,
   "id": "36e43abc",
   "metadata": {},
   "outputs": [],
   "source": [
    "\"\"\"\n",
    "def preprocess_text(text):\n",
    "    # Tokenize the text into words\n",
    "    words = word_tokenize(text.lower())\n",
    "    \n",
    "    # Remove punctuation and non-alphanumeric characters\n",
    "    words = [word for word in words if word.isalnum()]\n",
    "    \n",
    "    return \" \".join(words)\n",
    "\"\"\"\n",
    "\n",
    "def clean_and_lower(text):\n",
    "    # Remove non-alphanumeric characters and underscore\n",
    "    cleaned_text = ''.join(char.lower() for char in text if char.isalnum() or char.isspace())\n",
    "    return cleaned_text"
   ]
  },
  {
   "cell_type": "code",
   "execution_count": 7,
   "id": "cdd8501c",
   "metadata": {},
   "outputs": [
    {
     "name": "stdout",
     "output_type": "stream",
     "text": [
      "[('diabetes dapat mempengaruhi kesehatan mata kondisi ini dapat menyebabkan retinopati diabetik yaitu kerusakan pembuluh darah pada retina yang dapat mengganggu penglihatan', 'fakta'), ('deteksi dini adalah kunci untuk mencegah banyak masalah mata yang serius berkunjung ke dokter mata secara berkala dapat membantu mendeteksi dan mengatasi masalah mata sejak dini', 'fakta')]\n"
     ]
    }
   ],
   "source": [
    "# clean_and_lower(text) for text in test\n",
    "hasilPre = [(clean_and_lower(words), category) for words, category in data]\n",
    "print(hasilPre[0:2])"
   ]
  },
  {
   "cell_type": "code",
   "execution_count": 8,
   "id": "4d6301f0",
   "metadata": {},
   "outputs": [],
   "source": [
    "train, test = train_test_split(hasilPre, test_size=0.3, random_state=42)\n",
    "\n",
    "# Separate the features (reviews) and labels (positive/negative)\n",
    "train_texts, train_labels = zip(*train)\n",
    "test_texts, test_labels = zip(*test)"
   ]
  },
  {
   "cell_type": "code",
   "execution_count": 9,
   "id": "dd0e6a36",
   "metadata": {},
   "outputs": [],
   "source": [
    "vectorizer = TfidfVectorizer()\n",
    "\n",
    "# Fit and transform the training data\n",
    "X_train = vectorizer.fit_transform(train_texts)\n",
    "\n",
    "# Transform the testing data\n",
    "X_test = vectorizer.transform(test_texts)"
   ]
  },
  {
   "cell_type": "code",
   "execution_count": 12,
   "id": "7f788da0",
   "metadata": {},
   "outputs": [
    {
     "data": {
      "text/plain": [
       "['vector.joblib']"
      ]
     },
     "execution_count": 12,
     "metadata": {},
     "output_type": "execute_result"
    }
   ],
   "source": [
    "filenamee = 'vector.joblib'\n",
    "\n",
    "# Save the model to the file\n",
    "joblib.dump(X_train, filenamee)"
   ]
  },
  {
   "cell_type": "code",
   "execution_count": 10,
   "id": "c840b95b",
   "metadata": {},
   "outputs": [
    {
     "data": {
      "text/plain": [
       "RandomForestClassifier()"
      ]
     },
     "execution_count": 10,
     "metadata": {},
     "output_type": "execute_result"
    }
   ],
   "source": [
    "clf = RandomForestClassifier()\n",
    "\n",
    "# Train the classifier\n",
    "clf.fit(X_train, train_labels)"
   ]
  },
  {
   "cell_type": "code",
   "execution_count": 11,
   "id": "3774fd2a",
   "metadata": {},
   "outputs": [
    {
     "data": {
      "text/plain": [
       "['nlpModel.joblib']"
      ]
     },
     "execution_count": 11,
     "metadata": {},
     "output_type": "execute_result"
    }
   ],
   "source": [
    "filename = 'nlpModel.joblib'\n",
    "\n",
    "# Save the model to the file\n",
    "joblib.dump(clf, filename)"
   ]
  },
  {
   "cell_type": "code",
   "execution_count": 12,
   "id": "f2ac12fc",
   "metadata": {},
   "outputs": [
    {
     "name": "stdout",
     "output_type": "stream",
     "text": [
      "Accuracy: 0.83\n",
      "Classification Report:\n",
      "              precision    recall  f1-score   support\n",
      "\n",
      "       fakta       0.75      1.00      0.86         3\n",
      "       mitos       1.00      0.67      0.80         3\n",
      "\n",
      "    accuracy                           0.83         6\n",
      "   macro avg       0.88      0.83      0.83         6\n",
      "weighted avg       0.88      0.83      0.83         6\n",
      "\n",
      "Confusion Matrix:\n",
      "[[3 0]\n",
      " [1 2]]\n"
     ]
    }
   ],
   "source": [
    "predictions = clf.predict(X_test)\n",
    "\n",
    "# Calculate accuracy\n",
    "accuracy = accuracy_score(test_labels, predictions)\n",
    "print(f\"Accuracy: {accuracy:.2f}\")\n",
    "\n",
    "# Print classification report\n",
    "print(\"Classification Report:\")\n",
    "print(classification_report(test_labels, predictions))\n",
    "\n",
    "# Print confusion matrix\n",
    "print(\"Confusion Matrix:\")\n",
    "print(confusion_matrix(test_labels, predictions))"
   ]
  },
  {
   "cell_type": "code",
   "execution_count": 17,
   "id": "eb71cdb8",
   "metadata": {},
   "outputs": [
    {
     "name": "stdout",
     "output_type": "stream",
     "text": [
      "Review 1 sentiment: Fakta\n",
      "Review 2 sentiment: Fakta\n"
     ]
    }
   ],
   "source": [
    "review2 = \"Kita harus ke dokter mata jika ada masalah dalam melihat\" #mitos\n",
    "review1 = \"adshfajsfjkas\" #fakta\n",
    "\n",
    "# Preprocess the review texts\n",
    "processed_review1 = clean_and_lower(review1)\n",
    "processed_review2 = clean_and_lower(review2)\n",
    "\n",
    "# Convert the processed review texts to feature vectors using the same TF-IDF vectorizer\n",
    "review1_vector = vectorizer.transform([processed_review1])\n",
    "review2_vector = vectorizer.transform([processed_review2])\n",
    "\n",
    "# Make predictions using the trained classifier\n",
    "prediction1 = clf.predict(review1_vector)[0]\n",
    "prediction2 = clf.predict(review2_vector)[0]\n",
    "\n",
    "# Print the predictions\n",
    "print(f\"Review 1 sentiment: {'Mitos' if prediction1 == 'mitos' else 'Fakta'}\")\n",
    "print(f\"Review 2 sentiment: {'Mitos' if prediction2 == 'mitos' else 'Fakta'}\")"
   ]
  },
  {
   "cell_type": "code",
   "execution_count": 14,
   "id": "7e483566",
   "metadata": {},
   "outputs": [
    {
     "name": "stdout",
     "output_type": "stream",
     "text": [
      "kita harus ke dokter mata jika ada masalah dalam melihat\n"
     ]
    }
   ],
   "source": [
    "print(processed_review2)"
   ]
  },
  {
   "cell_type": "code",
   "execution_count": null,
   "id": "c9448b7b",
   "metadata": {},
   "outputs": [],
   "source": []
  }
 ],
 "metadata": {
  "kernelspec": {
   "display_name": "Python 3 (ipykernel)",
   "language": "python",
   "name": "python3"
  },
  "language_info": {
   "codemirror_mode": {
    "name": "ipython",
    "version": 3
   },
   "file_extension": ".py",
   "mimetype": "text/x-python",
   "name": "python",
   "nbconvert_exporter": "python",
   "pygments_lexer": "ipython3",
   "version": "3.10.0"
  }
 },
 "nbformat": 4,
 "nbformat_minor": 5
}
