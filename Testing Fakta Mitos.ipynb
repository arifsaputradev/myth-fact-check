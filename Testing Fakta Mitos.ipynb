{
 "cells": [
  {
   "cell_type": "code",
   "execution_count": 1,
   "id": "f8c53691",
   "metadata": {},
   "outputs": [],
   "source": [
    "mitos = [\n",
    "    \"Menggunakan kacamata atau lensa kontak dapat membantu memperbaiki gangguan penglihatan dan mencegah masalah lebih lanjut\",\n",
    "    \"Duduk terlalu dekat dengan layar komputer tidak merusak mata secara permanen\",\n",
    "    \"Menggunakan wortel secara berlebihan akan meningkatkan penglihatan dengan cepat\",\n",
    "    \"Bersepeda dapat menyebabkan kebutaan\",\n",
    "    \"Mata hanya perlu diperiksa jika ada masalah penglihatan\",\n",
    "    \"Menggunakan tetes mata secara berlebihan dapat menyebabkan ketergantungan\",\n",
    "    \"Membaca dalam cahaya redup tidak merusak mata secara permanen\",\n",
    "    \"Menggosok mata saat gatal dapat menyebabkan penyebaran infeksi\",\n",
    "    \"Istirahat sebentar setelah melihat layar tidak akan memperbaiki masalah penglihatan\",\n",
    "    \"Terlalu banyak membaca dalam cahaya rendah tidak akan merusak mata\",\n",
    "    \"Menyilangkan mata dapat menyebabkan mata juling\",\n",
    "    \"Menggunakan topeng tidur dapat menyebabkan kebutaan\",\n",
    "    \"Duduk terlalu dekat dengan lampu membaca dapat merusak penglihatan\",\n",
    "    \"Makanan pedas dapat merusak mata\",\n",
    "    \"Menggunakan smartphone di gelap dapat merusak mata\",\n",
    "    \"Berenang setelah makan bisa menyebabkan rabun mata\",\n",
    "    \"Tidak perlu kacamata saat hujan karena air hujan membersihkan mata\",\n",
    "    \"Lensa kontak kolor dapat membuat mata lebih sensitif terhadap cahaya\",\n",
    "    \"Pilihan makanan yang salah dapat menyebabkan warna mata berubah\",\n",
    "    \"Tidur dengan riasan mata dapat merusak bulu mata\",\n",
    "    \"Memakai kacamata minus bisa menyembuhkan mata minus\",\n",
    "    \"Melihat langsung matahari dapat meningkatkan penglihatan\",\n",
    "    \"Memiringkan kepala saat membaca bisa merusak mata\",\n",
    "    \"Kaca mata hitam hanya diperlukan saat matahari terik\",\n",
    "    \"Tidak perlu melindungi mata di lingkungan berdebu atau berangin\",\n",
    "    \"Tidur cukup dapat menyembuhkan mata kering\",\n",
    "    \"Membaca di tempat gelap merusak penglihatan secara permanen\",\n",
    "    \"Kacamata membaca hanya diperlukan jika Anda sudah tua\",\n",
    "    \"Mengucek mata setelah berenang akan membuat penglihatan lebih baik\",\n",
    "    \"Melihat TV dari dekat merusak mata\",\n",
    "    \"Air mata buatan dapat menyembuhkan semua masalah mata\",\n",
    "    \"Tidak memerlukan kacamata jika Anda hanya memiliki masalah penglihatan jauh\",\n",
    "    \"Melihat layar komputer sepanjang hari tidak akan merusak mata\",\n",
    "    \"Menggunakan kacamata minus bisa membuat mata semakin buruk\",\n",
    "    \"Berbicara saat angin berhembus dapat membuat mata merah\",\n",
    "    \"Lensa kontak tidak aman untuk digunakan saat berenang\",\n",
    "    \"Mata akan selalu memburuk seiring bertambahnya usia\",\n",
    "    \"Semua kacamata hitam memberikan perlindungan UV yang baik\",\n",
    "    \"Mata kering hanya terjadi pada orang tua\",\n",
    "    \"Memakan ikan secara teratur bisa menghilangkan masalah mata\",\n",
    "    \"Minum air kelapa hijau dapat meningkatkan penglihatan\",\n",
    "    \"Bola mata berubah bentuk saat melihat benda dekat secara terus-menerus\",\n",
    "    \"Membaca dalam cahaya redup lebih baik daripada cahaya terang\",\n",
    "    \"Melihat layar dengan sinar biru dapat merusak retina\",\n",
    "    \"Riasan mata yang tebal dapat melindungi mata dari sinar matahari\",\n",
    "    \"Kaca mata anti-silau akan merusak mata dalam jangka panjang\",\n",
    "    \"Merendam kantung teh di mata dapat menyembuhkan infeksi\",\n",
    "    \"Menggunakan kacamata minus jika mata terasa lelah dapat membantu\",\n",
    "    \"Menggunakan kacamata minus bisa menyebabkan mata lebih lelah\",\n",
    "    \"Menutup satu mata saat membaca dapat meningkatkan fokus\",\n",
    "    \"Tidak perlu kacamata matahari jika cuaca mendung\",\n",
    "    \"Makanan manis dapat menyebabkan astigmatisme\",\n",
    "    \"Tidur dengan lensa kontak dapat merusak kornea\",\n",
    "    \"Menggosok mata dengan daun mint dapat menghilangkan mata merah\",\n",
    "    \"Menggunakan kacamata pada anak-anak bisa membuat mata semakin buruk\",\n",
    "    \"Melihat TV dekat mata dapat memperbaiki penglihatan\",\n",
    "    \"Terlalu sering memakai kacamata minus bisa membuat mata malas\",\n",
    "    \"Membaca dengan cahaya lilin lebih baik untuk mata\",\n",
    "    \"Menggunakan lensa kontak saat tidur tidak masalah\",\n",
    "    \"Melihat sinar laser secara langsung tidak berbahaya bagi mata\"\n",
    "]\n",
    "\n",
    "fakta = [\n",
    "    \"Paparan sinar ultraviolet dari sinar matahari dapat menyebabkan kerusakan mata\",\n",
    "    \"Diabetes dapat menyebabkan retinopati diabetik yang dapat mengganggu penglihatan\",\n",
    "    \"Perubahan penglihatan terjadi secara alami seiring bertambahnya usia\",\n",
    "    \"Merokok dapat meningkatkan risiko terjadinya katarak dan degenerasi makula\",\n",
    "    \"Konsumsi makanan bergizi, seperti makanan kaya vitamin A, C, E, dan mineral seperti seng, dapat membantu menjaga kesehatan mata\",\n",
    "    \"Istirahat reguler dan tetes mata bisa membantu mengurangi ketidaknyamanan mata kering\",\n",
    "    \"Penggunaan komputer dan perangkat elektronik lainnya dalam jangka waktu yang lama dapat menyebabkan Computer Vision Syndrome (CVS), menyebabkan gejala seperti mata kering, sakit kepala, dan ketegangan leher\",\n",
    "    \"Bentuk fisik mata setiap orang berbeda\",\n",
    "    \"Kacamata hitam yang baik melindungi mata dari sinar UV dan meminimalkan paparan sinar biru dari layar komputer atau perangkat elektronik lainnya\",\n",
    "    \"Deteksi dini adalah kunci untuk mencegah banyak masalah mata yang serius\",\n",
    "    \"Radang kelopak mata atau blepharitis adalah peradangan umum pada kelopak mata yang dapat menyebabkan mata merah, gatal, dan mengganggu penglihatan\",\n",
    "    \"Terlalu banyak paparan layar gadget dapat meningkatkan risiko mata kering\",\n",
    "    \"Glaukoma adalah kondisi di mana tekanan mata tinggi dapat merusak saraf optik dan menyebabkan kehilangan penglihatan\",\n",
    "    \"Usia di atas 40 meningkatkan risiko pengembangan katarak, yang mengaburkan lensa mata\",\n",
    "    \"Terlalu sering mengucek mata dapat memicu iritasi dan infeksi\",\n",
    "    \"Kondisi mata seperti mata juling dapat diobati dengan terapi fisik atau operasi\",\n",
    "    \"Penggunaan lensa kontak yang tidak tepat atau kebersihan yang buruk dapat menyebabkan infeksi mata serius\",\n",
    "    \"Beberapa penyakit autoimun, seperti lupus dan rheumatoid arthritis, dapat mempengaruhi mata\",\n",
    "    \"Tekanan darah tinggi atau hipertensi dapat merusak pembuluh darah di mata\",\n",
    "    \"Konsumsi lemak sehat, seperti omega-3, dapat mendukung kesehatan mata\",\n",
    "    \"Lensa kontak tipe harian lebih higienis karena diganti setiap hari\",\n",
    "    \"Stres kronis dapat mempengaruhi kesehatan mata dan menyebabkan gejala mata kering\",\n",
    "    \"Alkohol dalam jumlah berlebihan dapat merusak saraf optik\",\n",
    "    \"Terlalu banyak mengonsumsi gula dapat meningkatkan risiko diabetes tipe 2, yang dapat merusak mata\",\n",
    "    \"Beberapa obat, seperti antihistamin, dapat menyebabkan mata kering\",\n",
    "    \"Tekanan pada mata saat batuk atau bersin dapat memicu katarak pada orang yang rentan\",\n",
    "    \"Cedera mata dapat terjadi saat berolahraga atau kecelakaan, sehingga penting untuk menggunakan perlindungan mata yang tepat\",\n",
    "    \"Diabetes juga dapat menyebabkan pembuluh darah kecil di retina pecah, menyebabkan pendarahan dalam mata\",\n",
    "    \"Radang retina, atau uveitis, adalah kondisi yang dapat mengakibatkan mata merah, nyeri, dan penglihatan kabur\",\n",
    "    \"Lensa kontak tipe bulanan memerlukan perawatan dan pembersihan yang lebih intensif\",\n",
    "    \"Terlalu banyak konsumsi garam dapat meningkatkan risiko pembengkakan di sekitar mata\",\n",
    "    \"Terkena cahaya biru yang kuat dari layar komputer larut malam dapat mengganggu ritme sirkadian dan kualitas tidur\",\n",
    "    \"Mata kering dapat mempengaruhi kenyamanan selama penggunaan lensa kontak\",\n",
    "    \"Paparan sinar matahari yang berlebihan selama bertahun-tahun dapat menyebabkan pterygium atau ‘selaput mata’\",\n",
    "    \"Retina, bagian belakang mata, mengandung sel-sel fotoreseptor yang memungkinkan kita melihat cahaya dan warna\",\n",
    "    \"Terlalu banyak kafein dapat menyebabkan kelebihan cairan di mata, menyebabkan pembengkakan\",\n",
    "    \"Konsumsi vitamin C dan E dapat membantu mencegah degenerasi makula terkait usia\",\n",
    "    \"Pembengkakan kelopak mata (edema) dapat disebabkan oleh alergi atau masalah kesehatan lainnya\",\n",
    "    \"Beberapa kondisi seperti lupus dan rheumatoid arthritis dapat menyebabkan mata merah dan kering\",\n",
    "    \"Mata bayi baru lahir belum sepenuhnya berkembang dan perlu waktu untuk fokus dengan baik\",\n",
    "    \"Tidak semua masalah mata dapat dilihat dari luar; pemeriksaan mata profesional penting untuk deteksi dini\",\n",
    "    \"Mata manusia memiliki sekitar 107 juta sel batang yang membantu dalam penglihatan rendah cahaya\",\n",
    "    \"Pigmen pada iris mata mempengaruhi warna mata, dengan lebih banyak pigmen menghasilkan mata yang lebih gelap\",\n",
    "    \"Kondisi seperti hipotiroidisme dapat mempengaruhi kesehatan mata dan mengganggu produksi air mata\",\n",
    "    \"Pasokan darah yang buruk ke mata dapat menyebabkan masalah penglihatan dan kondisi serius seperti stroke mata\",\n",
    "    \"Pilihan kacamata atau lensa kontak yang tepat dapat membantu mengurangi mata lelah saat membaca atau bekerja di depan layar\",\n",
    "    \"Efek sinar biru pada retina dapat menyebabkan stres oksidatif yang merusak sel-sel mata\",\n",
    "    \"Kelopak mata memiliki kelenjar minyak yang dapat menyebabkan blepharitis jika terjadi infeksi atau penyumbatan\",\n",
    "    \"Kondisi jerawat rosasea juga dapat mempengaruhi mata, menyebabkan mata merah dan iritasi\",\n",
    "    \"Mata bayi cenderung berkedip lebih sedikit daripada orang dewasa\",\n",
    "    \"Pembuluh darah di bola mata membantu menyediakan nutrisi dan oksigen ke sel-sel mata\",\n",
    "    \"Radiasi sinar-X dapat merusak sel-sel di mata, itulah mengapa perlu menggunakan pelindung mata saat menjalani pemeriksaan sinar-X\",\n",
    "    \"Beberapa kondisi, seperti lupus, dapat memicu kerusakan saraf optik\",\n",
    "    \"Sel photoreceptor (sel batang dan kerucut) di retina mengubah cahaya menjadi sinyal saraf yang dikirimkan ke otak untuk pengolahan penglihatan\",\n",
    "    \"Pembedahan katarak adalah prosedur yang umum untuk mengganti lensa mata yang kabur\",\n",
    "    \"Terkena bahan kimia dapat menyebabkan luka kimia pada mata, yang dapat menyebabkan kerusakan permanen\",\n",
    "    \"Mata manusia dapat fokus pada objek yang berjarak mulai dari beberapa sentimeter hingga sejauh beberapa kilometer\",\n",
    "    \"Menerapkan kompres dingin dapat membantu mengurangi pembengkakan mata\",\n",
    "    \"Memijat area di sekitar mata dapat membantu meredakan ketegangan dan meningkatkan sirkulasi darah\",\n",
    "    \"Mata bayi cenderung berkedip lebih sedikit daripada orang dewasa\",\n",
    "    \"Pembuluh darah di bola mata membantu menyediakan nutrisi dan oksigen ke sel-sel mata\",\n",
    "    \"Radiasi sinar-X dapat merusak sel-sel di mata, itulah mengapa perlu menggunakan pelindung mata saat menjalani pemeriksaan sinar-X\",\n",
    "    \"Beberapa kondisi, seperti lupus, dapat memicu kerusakan saraf optik\",\n",
    "    \"Sel photoreceptor (sel batang dan kerucut) di retina mengubah cahaya menjadi sinyal saraf yang dikirimkan ke otak untuk pengolahan penglihatan\"\n",
    "]"
   ]
  },
  {
   "cell_type": "code",
   "execution_count": 2,
   "id": "e964f8a3",
   "metadata": {},
   "outputs": [],
   "source": [
    "import gensim\n",
    "import numpy as np\n",
    "import random\n",
    "from sklearn.model_selection import train_test_split\n",
    "from sklearn.preprocessing import LabelEncoder\n",
    "from sklearn.metrics import accuracy_score\n",
    "from keras.models import Sequential\n",
    "from keras.layers import Dense, Embedding, Flatten, Conv1D, MaxPooling1D\n",
    "from keras.models import load_model\n"
   ]
  },
  {
   "cell_type": "code",
   "execution_count": 3,
   "id": "1950b42f",
   "metadata": {},
   "outputs": [],
   "source": [
    "# Definisi Function\n",
    "def clean_and_lower(text):\n",
    "    cleaned_text = ''.join(char.lower() for char in text if char.isalnum() or char.isspace())\n",
    "    return cleaned_text\n",
    "\n",
    "# Word2Vec Model\n",
    "def word2vec_model(sentences, stopwords=None):\n",
    "    words = [sentence.split() for sentence in sentences]\n",
    "    model = gensim.models.Word2Vec(words, vector_size=100, window=5, min_count=1, workers=4)\n",
    "    return model\n",
    "\n",
    "# Convert sentences to average word vectors\n",
    "def get_avg_word_vectors(sentences, model):\n",
    "    avg_vectors = []\n",
    "    for sentence in sentences:\n",
    "        vectors = []\n",
    "        for word in sentence.split():\n",
    "            if word in model.wv:\n",
    "                vectors.append(model.wv[word])\n",
    "        if vectors:\n",
    "            avg_vectors.append(np.mean(vectors, axis=0))\n",
    "        else:\n",
    "            avg_vectors.append(np.zeros(model.vector_size))\n",
    "    return np.array(avg_vectors)\n",
    "\n",
    "# Build and train a simple neural network\n",
    "def build_model(input_dim):\n",
    "    model = Sequential()\n",
    "    model.add(Dense(128, input_dim=input_dim, activation='relu'))\n",
    "    model.add(Dense(128, activation='relu'))\n",
    "    # model.add(Flatten())\n",
    "    model.add(Dense(128, activation='relu'))\n",
    "    model.add(Dense(1, activation='sigmoid'))\n",
    "    model.compile(loss='binary_crossentropy', optimizer='adam', metrics=['accuracy'])\n",
    "    return model"
   ]
  },
  {
   "cell_type": "code",
   "execution_count": 4,
   "id": "a563e645",
   "metadata": {},
   "outputs": [
    {
     "name": "stdout",
     "output_type": "stream",
     "text": [
      "('Menggunakan kacamata atau lensa kontak dapat membantu memperbaiki gangguan penglihatan dan mencegah masalah lebih lanjut', 0)\n",
      "('Paparan sinar ultraviolet dari sinar matahari dapat menyebabkan kerusakan mata', 1)\n"
     ]
    }
   ],
   "source": [
    "# Kasih target setiap kalimat, 0 = mitos, 1 = fakta\n",
    "labelledMitos = [(kalimat, 0) for kalimat in mitos]\n",
    "labelledFakta = [(kalimat, 1) for kalimat in fakta]\n",
    "print(labelledMitos[0])\n",
    "print(labelledFakta[0])"
   ]
  },
  {
   "cell_type": "code",
   "execution_count": 5,
   "id": "4da44afb",
   "metadata": {},
   "outputs": [
    {
     "name": "stdout",
     "output_type": "stream",
     "text": [
      "('Menggunakan kacamata minus bisa menyebabkan mata lebih lelah', 0)\n"
     ]
    }
   ],
   "source": [
    "# gabung fakta dan mitos, lalu shuffle\n",
    "trainData = labelledMitos + labelledFakta\n",
    "random.shuffle(trainData)\n",
    "print(trainData[0])"
   ]
  },
  {
   "cell_type": "code",
   "execution_count": 6,
   "id": "a300b1cf",
   "metadata": {},
   "outputs": [
    {
     "name": "stdout",
     "output_type": "stream",
     "text": [
      "('pembuluh darah di bola mata membantu menyediakan nutrisi dan oksigen ke selsel mata', 1)\n"
     ]
    }
   ],
   "source": [
    "# preprocess, hilangkan yang bukan alpha numerik dan lower\n",
    "cleanData = [(clean_and_lower(kalimat), label) for kalimat, label in trainData]\n",
    "random.shuffle(cleanData)\n",
    "print(cleanData[0])"
   ]
  },
  {
   "cell_type": "code",
   "execution_count": 7,
   "id": "ebbe12ed",
   "metadata": {},
   "outputs": [
    {
     "name": "stdout",
     "output_type": "stream",
     "text": [
      "124\n",
      "1\n"
     ]
    }
   ],
   "source": [
    "sentences = [data for data, label in cleanData]\n",
    "labels = [label for data, label in cleanData]\n",
    "print(len(sentences))\n",
    "print(labels[0])"
   ]
  },
  {
   "cell_type": "code",
   "execution_count": 8,
   "id": "1fe48b6a",
   "metadata": {},
   "outputs": [],
   "source": [
    "X_train, X_test, y_train, y_test = train_test_split(sentences, labels, test_size=0.3, random_state=142)"
   ]
  },
  {
   "cell_type": "code",
   "execution_count": 9,
   "id": "06f63e42",
   "metadata": {},
   "outputs": [
    {
     "name": "stdout",
     "output_type": "stream",
     "text": [
      "Epoch 1/25\n",
      "29/29 [==============================] - 2s 15ms/step - loss: 0.6947 - accuracy: 0.4651 - val_loss: 0.6928 - val_accuracy: 0.6316\n",
      "Epoch 2/25\n",
      "29/29 [==============================] - 0s 5ms/step - loss: 0.6930 - accuracy: 0.5000 - val_loss: 0.6968 - val_accuracy: 0.3684\n",
      "Epoch 3/25\n",
      "29/29 [==============================] - 0s 4ms/step - loss: 0.6918 - accuracy: 0.5349 - val_loss: 0.6981 - val_accuracy: 0.3684\n",
      "Epoch 4/25\n",
      "29/29 [==============================] - 0s 4ms/step - loss: 0.6909 - accuracy: 0.5349 - val_loss: 0.7002 - val_accuracy: 0.3684\n",
      "Epoch 5/25\n",
      "29/29 [==============================] - 0s 5ms/step - loss: 0.6880 - accuracy: 0.5349 - val_loss: 0.7017 - val_accuracy: 0.3684\n",
      "Epoch 6/25\n",
      "29/29 [==============================] - 0s 5ms/step - loss: 0.6857 - accuracy: 0.5349 - val_loss: 0.6976 - val_accuracy: 0.3684\n",
      "Epoch 7/25\n",
      "29/29 [==============================] - 0s 5ms/step - loss: 0.6742 - accuracy: 0.6163 - val_loss: 0.6815 - val_accuracy: 0.3947\n",
      "Epoch 8/25\n",
      "29/29 [==============================] - 0s 5ms/step - loss: 0.6520 - accuracy: 0.7674 - val_loss: 0.7034 - val_accuracy: 0.3684\n",
      "Epoch 9/25\n",
      "29/29 [==============================] - 0s 4ms/step - loss: 0.6019 - accuracy: 0.7326 - val_loss: 0.5356 - val_accuracy: 0.9211\n",
      "Epoch 10/25\n",
      "29/29 [==============================] - 0s 5ms/step - loss: 0.5168 - accuracy: 0.8023 - val_loss: 0.4457 - val_accuracy: 0.8684\n",
      "Epoch 11/25\n",
      "29/29 [==============================] - 0s 5ms/step - loss: 0.4567 - accuracy: 0.8140 - val_loss: 0.3615 - val_accuracy: 0.8947\n",
      "Epoch 12/25\n",
      "29/29 [==============================] - 0s 4ms/step - loss: 0.4376 - accuracy: 0.7674 - val_loss: 0.3836 - val_accuracy: 0.8158\n",
      "Epoch 13/25\n",
      "29/29 [==============================] - 0s 5ms/step - loss: 0.3873 - accuracy: 0.8140 - val_loss: 0.3685 - val_accuracy: 0.8421\n",
      "Epoch 14/25\n",
      "29/29 [==============================] - 0s 4ms/step - loss: 0.2949 - accuracy: 0.9070 - val_loss: 0.3785 - val_accuracy: 0.8158\n",
      "Epoch 15/25\n",
      "29/29 [==============================] - 0s 5ms/step - loss: 0.2566 - accuracy: 0.9070 - val_loss: 0.3613 - val_accuracy: 0.8421\n",
      "Epoch 16/25\n",
      "29/29 [==============================] - 0s 4ms/step - loss: 0.2252 - accuracy: 0.8837 - val_loss: 0.4773 - val_accuracy: 0.7632\n",
      "Epoch 17/25\n",
      "29/29 [==============================] - 0s 4ms/step - loss: 0.2385 - accuracy: 0.9070 - val_loss: 0.3098 - val_accuracy: 0.8421\n",
      "Epoch 18/25\n",
      "29/29 [==============================] - 0s 4ms/step - loss: 0.1764 - accuracy: 0.9535 - val_loss: 0.6107 - val_accuracy: 0.6842\n",
      "Epoch 19/25\n",
      "29/29 [==============================] - 0s 5ms/step - loss: 0.2225 - accuracy: 0.8837 - val_loss: 0.4762 - val_accuracy: 0.7632\n",
      "Epoch 20/25\n",
      "29/29 [==============================] - 0s 5ms/step - loss: 0.1734 - accuracy: 0.9535 - val_loss: 0.2493 - val_accuracy: 0.8947\n",
      "Epoch 21/25\n",
      "29/29 [==============================] - 0s 5ms/step - loss: 0.1366 - accuracy: 0.9419 - val_loss: 0.2788 - val_accuracy: 0.9211\n",
      "Epoch 22/25\n",
      "29/29 [==============================] - 0s 5ms/step - loss: 0.1467 - accuracy: 0.9302 - val_loss: 0.2551 - val_accuracy: 0.8947\n",
      "Epoch 23/25\n",
      "29/29 [==============================] - 0s 4ms/step - loss: 0.1168 - accuracy: 0.9767 - val_loss: 0.4789 - val_accuracy: 0.8158\n",
      "Epoch 24/25\n",
      "29/29 [==============================] - 0s 4ms/step - loss: 0.1819 - accuracy: 0.9070 - val_loss: 0.2569 - val_accuracy: 0.8947\n",
      "Epoch 25/25\n",
      "29/29 [==============================] - 0s 5ms/step - loss: 0.1169 - accuracy: 0.9767 - val_loss: 0.2663 - val_accuracy: 0.9211\n"
     ]
    },
    {
     "data": {
      "text/plain": [
       "<keras.src.callbacks.History at 0x24388ddd610>"
      ]
     },
     "execution_count": 9,
     "metadata": {},
     "output_type": "execute_result"
    }
   ],
   "source": [
    "# Train & evaluate model\n",
    "stopword = [\"akan\", \"dapat\", \"dan\", \"dengan\", \"dari\", \"itu\", \"ini\", \"saya\", \"kamu\", \"dia\", \"mereka\", \"aku\", \"di\", \"ke\"]\n",
    "word2vec = word2vec_model(X_train, stopword) # ajarin model sentence word2vec\n",
    "X_train_avg = get_avg_word_vectors(X_train, word2vec)\n",
    "X_test_avg = get_avg_word_vectors(X_test,word2vec)\n",
    "model = build_model(input_dim=X_train_avg.shape[1])\n",
    "model.fit(X_train_avg, np.array(y_train), batch_size=3, epochs=25, verbose=1, validation_data=(X_test_avg, np.array(y_test)))"
   ]
  },
  {
   "cell_type": "code",
   "execution_count": 10,
   "id": "7bd3e260",
   "metadata": {},
   "outputs": [
    {
     "name": "stderr",
     "output_type": "stream",
     "text": [
      "c:\\Users\\muham\\AppData\\Local\\Programs\\Python\\Python311\\Lib\\site-packages\\keras\\src\\engine\\training.py:3000: UserWarning: You are saving your model as an HDF5 file via `model.save()`. This file format is considered legacy. We recommend using instead the native Keras format, e.g. `model.save('my_model.keras')`.\n",
      "  saving_api.save_model(\n"
     ]
    }
   ],
   "source": [
    "# Save model\n",
    "model.save(\"w2v.h5\")\n",
    "word2vec.save(\"w2v.bin\")"
   ]
  },
  {
   "cell_type": "code",
   "execution_count": 11,
   "id": "7c79e99b",
   "metadata": {},
   "outputs": [
    {
     "name": "stdout",
     "output_type": "stream",
     "text": [
      "1/1 [==============================] - 0s 107ms/step\n",
      "prediksi [[0.00332891]\n",
      " [0.9146852 ]\n",
      " [0.7199703 ]]\n",
      "=====================================================\n",
      "melihat layar komputer dengan dekat dapat tidak merusak mata secara permanen [0.00332891]\n",
      "diabetes dapat menyebabkan retinopati diabetik yang dapat mengganggu penglihatan [0.9146852]\n",
      "dfaskfjasdjfasmdcasonsn kdcsanco dndsnfoinasdnf ndjnacznjdnsia ewjnwfndds icdo [0.7199703]\n"
     ]
    }
   ],
   "source": [
    "# Coba hasil\n",
    "loaded_model = load_model(\"w2v.h5\")\n",
    "w2vmodel = gensim.models.Word2Vec.load(\"w2v.bin\")\n",
    "\n",
    "# Now you can use the loaded_model for predictions\n",
    "new_sentences = ['Melihat layar komputer dengan dekat dapat tidak merusak mata secara permanen', \n",
    "                 'Diabetes dapat menyebabkan retinopati diabetik yang dapat mengganggu penglihatan',\n",
    "                 'dfaskfjasdjfasmdcasonsn kdcsanco dndsnfoinasdnf ndjnacznjdnsia ewjnwfndds icdo']\n",
    "clean_new_sentences = [clean_and_lower(kalimat) for kalimat in new_sentences]\n",
    "new_vectors = get_avg_word_vectors(clean_new_sentences, w2vmodel)\n",
    "predictions = loaded_model.predict(new_vectors)\n",
    "\n",
    "print(\"prediksi\", predictions)\n",
    "print(\"=====================================================\")\n",
    "\n",
    "for sentence, prediction in zip(clean_new_sentences, predictions):\n",
    "    print(sentence, prediction)\n",
    "    # print(f\"Sentence: {sentence} - Sentiment: {sentiment}\")"
   ]
  },
  {
   "cell_type": "code",
   "execution_count": null,
   "id": "4defd842",
   "metadata": {},
   "outputs": [],
   "source": []
  }
 ],
 "metadata": {
  "kernelspec": {
   "display_name": "Python 3 (ipykernel)",
   "language": "python",
   "name": "python3"
  },
  "language_info": {
   "codemirror_mode": {
    "name": "ipython",
    "version": 3
   },
   "file_extension": ".py",
   "mimetype": "text/x-python",
   "name": "python",
   "nbconvert_exporter": "python",
   "pygments_lexer": "ipython3",
   "version": "3.11.4"
  }
 },
 "nbformat": 4,
 "nbformat_minor": 5
}
