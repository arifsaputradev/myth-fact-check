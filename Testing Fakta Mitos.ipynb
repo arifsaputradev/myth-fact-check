{
 "cells": [
  {
   "cell_type": "code",
   "execution_count": 1,
   "id": "f8c53691",
   "metadata": {},
   "outputs": [],
   "source": [
    "mitos = [\"Menggunakan kacamata atau lensa kontak dapat membantu memperbaiki gangguan penglihatan dan mencegah masalah lebih lanjut.\",\n",
    "\"Duduk terlalu dekat dengan layar komputer tidak merusak mata secara permanen.\",\n",
    "\"Menggunakan wortel secara berlebihan akan meningkatkan penglihatan dengan cepat.\",\n",
    "\"Bersepeda dapat menyebabkan kebutaan.\",\n",
    "\"Mata hanya perlu diperiksa jika ada masalah penglihatan.\",\n",
    "\"Menggunakan tetes mata secara berlebihan dapat menyebabkan ketergantungan.\",\n",
    "\"Membaca dalam cahaya redup tidak merusak mata secara permanen.\",\n",
    "\"Menggosok mata saat gatal dapat menyebabkan penyebaran infeksi.\",\n",
    "\"Istirahat sebentar setelah melihat layar tidak akan memperbaiki masalah penglihatan.\",\n",
    "\"Terlalu banyak membaca dalam cahaya rendah tidak akan merusak mata.\",\n",
    "]\n",
    "\n",
    "fakta = [\"Paparan sinar ultraviolet dari sinar matahari dapat menyebabkan kerusakan mata.\",\n",
    "\"Diabetes dapat menyebabkan retinopati diabetik yang dapat mengganggu penglihatan.\",\n",
    "\"Perubahan penglihatan terjadi secara alami seiring bertambahnya usia.\",\n",
    "\"Merokok dapat meningkatkan risiko terjadinya katarak dan degenerasi makula.\",\n",
    "\"Konsumsi makanan bergizi, seperti makanan kaya vitamin A, C, E, dan mineral seperti seng, dapat membantu menjaga kesehatan mata.\",\n",
    "\"Istirahat reguler dan tetes mata bisa membantu mengurangi ketidaknyamanan mata kering.\",\n",
    "\"Penggunaan komputer dan perangkat elektronik lainnya dalam jangka waktu yang lama dapat menyebabkan Computer Vision Syndrome (CVS), menyebabkan gejala seperti mata kering, sakit kepala, dan ketegangan leher.\",\n",
    "\"Bentuk fisik mata setiap orang berbeda.\",\n",
    "\"Kacamata hitam yang baik melindungi mata dari sinar UV dan meminimalkan paparan sinar biru dari layar komputer atau perangkat elektronik lainnya.\",\n",
    "\"Deteksi dini adalah kunci untuk mencegah banyak masalah mata yang serius.\"\n",
    "]"
   ]
  },
  {
   "cell_type": "code",
   "execution_count": 10,
   "id": "e964f8a3",
   "metadata": {},
   "outputs": [],
   "source": [
    "import gensim\n",
    "import numpy as np\n",
    "import random\n",
    "from sklearn.model_selection import train_test_split\n",
    "from sklearn.preprocessing import LabelEncoder\n",
    "from sklearn.metrics import accuracy_score\n",
    "from keras.models import Sequential\n",
    "from keras.layers import Dense, Embedding, Flatten, Conv1D, MaxPooling1D\n",
    "from keras.models import load_model\n"
   ]
  },
  {
   "cell_type": "code",
   "execution_count": 3,
   "id": "1950b42f",
   "metadata": {},
   "outputs": [],
   "source": [
    "# Definisi Function\n",
    "def clean_and_lower(text):\n",
    "    cleaned_text = ''.join(char.lower() for char in text if char.isalnum() or char.isspace())\n",
    "    return cleaned_text\n",
    "\n",
    "# Word2Vec Model\n",
    "def word2vec_model(sentences):\n",
    "    words = [sentence.split() for sentence in sentences]\n",
    "    model = gensim.models.Word2Vec(words, vector_size=100, window=5, min_count=1, workers=4)\n",
    "    return model\n",
    "\n",
    "# Convert sentences to average word vectors\n",
    "def get_avg_word_vectors(sentences, model):\n",
    "    avg_vectors = []\n",
    "    for sentence in sentences:\n",
    "        vectors = []\n",
    "        for word in sentence.split():\n",
    "            if word in model.wv:\n",
    "                vectors.append(model.wv[word])\n",
    "        if vectors:\n",
    "            avg_vectors.append(np.mean(vectors, axis=0))\n",
    "        else:\n",
    "            avg_vectors.append(np.zeros(model.vector_size))\n",
    "    return np.array(avg_vectors)\n",
    "\n",
    "# Build and train a simple neural network\n",
    "def build_model(input_dim):\n",
    "    model = Sequential()\n",
    "    model.add(Conv1D(2, 2, 1, activation='relu', input_dim=input_dim))\n",
    "    model.add(Dense(4, activation='relu'))\n",
    "    model.add(Dense(8, activation='relu'))\n",
    "    model.add(MaxPooling1D())\n",
    "    model.add(Conv1D(16, 16, 1, activation='relu'))\n",
    "    model.add(MaxPooling1D())\n",
    "    model.add(Conv1D(32, 32, 1, activation='relu'))\n",
    "    model.add(MaxPooling1D())\n",
    "    model.add(Flatten())\n",
    "    model.add(Dense(64, activation='relu'))\n",
    "    model.add(Dense(1, activation='sigmoid'))\n",
    "    model.compile(loss='binary_crossentropy', optimizer='adamax', metrics=['accuracy'])\n",
    "    return model"
   ]
  },
  {
   "cell_type": "code",
   "execution_count": 4,
   "id": "a563e645",
   "metadata": {},
   "outputs": [
    {
     "name": "stdout",
     "output_type": "stream",
     "text": [
      "('Menggunakan kacamata atau lensa kontak terlalu sering dapat membuat mata malas. Faktanya, kacamata atau lensa kontak membantu memperbaiki gangguan penglihatan dan mencegah masalah lebih lanjut.', 0)\n",
      "('Paparan sinar ultraviolet (UV) dari sinar matahari dapat menyebabkan kerusakan mata. Penggunaan kacamata hitam yang memiliki perlindungan UV dapat membantu mengurangi risiko ini.', 1)\n"
     ]
    }
   ],
   "source": [
    "# Kasih target setiap kalimat, 0 = mitos, 1 = fakta\n",
    "labelledMitos = [(kalimat, 0) for kalimat in mitos]\n",
    "labelledFakta = [(kalimat, 1) for kalimat in fakta]\n",
    "print(labelledMitos[0])\n",
    "print(labelledFakta[0])"
   ]
  },
  {
   "cell_type": "code",
   "execution_count": 5,
   "id": "4da44afb",
   "metadata": {},
   "outputs": [
    {
     "name": "stdout",
     "output_type": "stream",
     "text": [
      "('Diabetes dapat mempengaruhi kesehatan mata. Kondisi ini dapat menyebabkan retinopati diabetik, yaitu kerusakan pembuluh darah pada retina yang dapat mengganggu penglihatan.', 1)\n"
     ]
    }
   ],
   "source": [
    "# gabung fakta dan mitos, lalu shuffle\n",
    "trainData = labelledMitos + labelledFakta\n",
    "random.shuffle(trainData)\n",
    "print(trainData[0])"
   ]
  },
  {
   "cell_type": "code",
   "execution_count": 6,
   "id": "a300b1cf",
   "metadata": {},
   "outputs": [
    {
     "name": "stdout",
     "output_type": "stream",
     "text": [
      "('konsumsi makanan bergizi seperti makanan kaya vitamin a c e dan mineral seperti seng dapat membantu menjaga kesehatan mata', 1)\n"
     ]
    }
   ],
   "source": [
    "# preprocess, hilangkan yang bukan alpha numerik dan lower\n",
    "cleanData = [(clean_and_lower(kalimat), label) for kalimat, label in trainData]\n",
    "random.shuffle(cleanData)\n",
    "print(cleanData[0])"
   ]
  },
  {
   "cell_type": "code",
   "execution_count": 7,
   "id": "ebbe12ed",
   "metadata": {},
   "outputs": [
    {
     "name": "stdout",
     "output_type": "stream",
     "text": [
      "20\n",
      "1\n"
     ]
    }
   ],
   "source": [
    "sentences = [data for data, label in cleanData]\n",
    "labels = [label for data, label in cleanData]\n",
    "print(len(sentences))\n",
    "print(labels[0])"
   ]
  },
  {
   "cell_type": "code",
   "execution_count": 8,
   "id": "06f63e42",
   "metadata": {},
   "outputs": [
    {
     "name": "stdout",
     "output_type": "stream",
     "text": [
      "Epoch 1/10\n",
      "1/1 [==============================] - 2s 2s/step - loss: 0.6931 - accuracy: 0.4500\n",
      "Epoch 2/10\n",
      "1/1 [==============================] - 0s 14ms/step - loss: 0.6928 - accuracy: 0.9000\n",
      "Epoch 3/10\n",
      "1/1 [==============================] - 0s 13ms/step - loss: 0.6925 - accuracy: 0.9500\n",
      "Epoch 4/10\n",
      "1/1 [==============================] - 0s 10ms/step - loss: 0.6924 - accuracy: 0.9500\n",
      "Epoch 5/10\n",
      "1/1 [==============================] - 0s 13ms/step - loss: 0.6922 - accuracy: 1.0000\n",
      "Epoch 6/10\n",
      "1/1 [==============================] - 0s 14ms/step - loss: 0.6921 - accuracy: 1.0000\n",
      "Epoch 7/10\n",
      "1/1 [==============================] - 0s 15ms/step - loss: 0.6920 - accuracy: 1.0000\n",
      "Epoch 8/10\n",
      "1/1 [==============================] - 0s 13ms/step - loss: 0.6918 - accuracy: 1.0000\n",
      "Epoch 9/10\n",
      "1/1 [==============================] - 0s 8ms/step - loss: 0.6917 - accuracy: 1.0000\n",
      "Epoch 10/10\n",
      "1/1 [==============================] - 0s 10ms/step - loss: 0.6915 - accuracy: 1.0000\n"
     ]
    },
    {
     "data": {
      "text/plain": [
       "<keras.callbacks.History at 0x1aa1fe7ff70>"
      ]
     },
     "execution_count": 8,
     "metadata": {},
     "output_type": "execute_result"
    }
   ],
   "source": [
    "# Train & evaluate model\n",
    "word2vec = word2vec_model(sentences) # ajarin model sentence word2vec\n",
    "X_train_avg = get_avg_word_vectors(sentences, word2vec)\n",
    "model = build_model(input_dim=X_train_avg.shape[1])\n",
    "model.fit(X_train_avg, np.array(labels), epochs=10, verbose=1)"
   ]
  },
  {
   "cell_type": "code",
   "execution_count": 9,
   "id": "7bd3e260",
   "metadata": {},
   "outputs": [],
   "source": [
    "# Save model\n",
    "model.save(\"w2v.h5\")\n",
    "word2vec.save(\"w2v.bin\")"
   ]
  },
  {
   "cell_type": "code",
   "execution_count": 16,
   "id": "7c79e99b",
   "metadata": {},
   "outputs": [
    {
     "name": "stdout",
     "output_type": "stream",
     "text": [
      "WARNING:tensorflow:6 out of the last 6 calls to <function Model.make_predict_function.<locals>.predict_function at 0x000001AA22057370> triggered tf.function retracing. Tracing is expensive and the excessive number of tracings could be due to (1) creating @tf.function repeatedly in a loop, (2) passing tensors with different shapes, (3) passing Python objects instead of tensors. For (1), please define your @tf.function outside of the loop. For (2), @tf.function has reduce_retracing=True option that can avoid unnecessary retracing. For (3), please refer to https://www.tensorflow.org/guide/function#controlling_retracing and https://www.tensorflow.org/api_docs/python/tf/function for  more details.\n",
      "1/1 [==============================] - 0s 104ms/step\n",
      "membaca dalam cahaya redup akan merusak mata ini hanya menyebabkan ketegangan mata sementara tetapi tidak merusak mata secara permanen [0.49832264]\n",
      "melihat layar komputer dengan dekat dapat merusak penglihatan namun tidak merusak mata secara permanen [0.49784335]\n",
      "diabetes dapat menyebabkan retinopati diabetik yang dapat mengganggu penglihatan [0.50058997]\n",
      "diabetes dapat mempengaruhi kesehatan mata kondisi ini dapat menyebabkan retinopati diabetik yaitu kerusakan pembuluh darah pada retina yang dapat mengganggu penglihatan [0.50093895]\n"
     ]
    }
   ],
   "source": [
    "# Coba hasil\n",
    "loaded_model = load_model(\"w2v.h5\")\n",
    "w2vmodel = gensim.models.Word2Vec.load(\"w2v.bin\")\n",
    "\n",
    "# Now you can use the loaded_model for predictions\n",
    "new_sentences = ['melihat layar komputer dengan dekat dapat merusak penglihatan namun tidak merusak mata secara permanen', 'diabetes dapat menyebabkan retinopati diabetik yang dapat mengganggu penglihatan', 'diabetes dapat mempengaruhi kesehatan mata kondisi ini dapat menyebabkan retinopati diabetik yaitu kerusakan pembuluh darah pada retina yang dapat mengganggu penglihatan']\n",
    "new_vectors = get_avg_word_vectors(new_sentences, w2vmodel)\n",
    "predictions = loaded_model.predict(new_vectors)\n",
    "\n",
    "for sentence, prediction in zip(new_sentences, predictions):\n",
    "    sentiment = \"Positive\" if prediction[0] == 1 else \"Negative\"\n",
    "    print(sentence, prediction)\n",
    "    # print(f\"Sentence: {sentence} - Sentiment: {sentiment}\")"
   ]
  },
  {
   "cell_type": "code",
   "execution_count": null,
   "id": "0f6a3501",
   "metadata": {},
   "outputs": [],
   "source": []
  }
 ],
 "metadata": {
  "kernelspec": {
   "display_name": "Python 3 (ipykernel)",
   "language": "python",
   "name": "python3"
  },
  "language_info": {
   "codemirror_mode": {
    "name": "ipython",
    "version": 3
   },
   "file_extension": ".py",
   "mimetype": "text/x-python",
   "name": "python",
   "nbconvert_exporter": "python",
   "pygments_lexer": "ipython3",
   "version": "3.10.0"
  }
 },
 "nbformat": 4,
 "nbformat_minor": 5
}
