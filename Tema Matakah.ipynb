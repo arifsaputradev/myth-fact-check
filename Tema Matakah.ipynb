{
 "cells": [
  {
   "cell_type": "code",
   "execution_count": 3,
   "metadata": {},
   "outputs": [
    {
     "name": "stdout",
     "output_type": "stream",
     "text": [
      "120\n"
     ]
    }
   ],
   "source": [
    "tentangMata = [\"Menggunakan kacamata atau lensa kontak dapat membantu memperbaiki gangguan penglihatan dan mencegah masalah lebih lanjut.\", \"Duduk terlalu dekat dengan layar komputer tidak merusak mata secara permanen.\", \"Menggunakan wortel secara berlebihan akan meningkatkan penglihatan dengan cepat.\", \"Bersepeda dapat menyebabkan kebutaan.\", \"Mata hanya perlu diperiksa jika ada masalah penglihatan.\", \"Menggunakan tetes mata secara berlebihan dapat menyebabkan ketergantungan.\", \"Membaca dalam cahaya redup tidak merusak mata secara permanen.\", \"Menggosok mata saat gatal dapat menyebabkan penyebaran infeksi.\", \"Istirahat sebentar setelah melihat layar tidak akan memperbaiki masalah penglihatan.\", \"Terlalu banyak membaca dalam cahaya rendah tidak akan merusak mata.\", \"Menyilangkan mata dapat menyebabkan mata juling.\", \"Menggunakan topeng tidur dapat menyebabkan kebutaan.\", \"Duduk terlalu dekat dengan lampu membaca dapat merusak penglihatan.\", \"Makanan pedas dapat merusak mata.\",\n",
    "                \"Menggunakan smartphone di gelap dapat merusak mata.\", \"Berenang setelah makan bisa menyebabkan rabun mata.\", \"Tidak perlu kacamata saat hujan karena air hujan membersihkan mata.\", \"Lensa kontak kolor dapat membuat mata lebih sensitif terhadap cahaya.\", \"Pilihan makanan yang salah dapat menyebabkan warna mata berubah.\",\n",
    "                \"Tidur dengan riasan mata dapat merusak bulu mata.\", \"Memakai kacamata minus bisa menyembuhkan mata minus.\", \"Melihat langsung matahari dapat meningkatkan penglihatan.\",\n",
    "                \"Memiringkan kepala saat membaca bisa merusak mata.\", \"Kaca mata hitam hanya diperlukan saat matahari terik.\", \"Tidak perlu melindungi mata di lingkungan berdebu atau berangin.\", \"Tidur cukup dapat menyembuhkan mata kering.\", \"Membaca di tempat gelap merusak penglihatan secara permanen.\", \"Kacamata membaca hanya diperlukan jika Anda sudah tua.\", \"Mengucek mata setelah berenang akan membuat penglihatan lebih baik.\",\n",
    "                \"Melihat TV dari dekat merusak mata.\", \"Air mata buatan dapat menyembuhkan semua masalah mata.\", \"Tidak memerlukan kacamata jika Anda hanya memiliki masalah penglihatan jauh.\", \"Melihat layar komputer sepanjang hari tidak akan merusak mata.\", \"Menggunakan kacamata minus bisa membuat mata semakin buruk.\", \"Berbicara saat angin berhembus dapat membuat mata merah.\", \"Lensa kontak tidak aman untuk digunakan saat berenang.\", \"Mata akan selalu memburuk seiring bertambahnya usia.\", \"Semua kacamata hitam memberikan perlindungan UV yang baik.\", \"Mata kering hanya terjadi pada orang tua.\",\n",
    "                \"Memakan ikan secara teratur bisa menghilangkan masalah mata.\", \"Minum air kelapa hijau dapat meningkatkan penglihatan.\", \"Bola mata berubah bentuk saat melihat benda dekat secara terus-menerus.\", \"Membaca dalam cahaya redup lebih baik daripada cahaya terang.\",\n",
    "                \"Melihat layar dengan sinar biru dapat merusak retina.\", \"Riasan mata yang tebal dapat melindungi mata dari sinar matahari.\", \"Kaca mata anti-silau akan merusak mata dalam jangka panjang.\", \"Merendam kantung teh di mata dapat menyembuhkan infeksi.\", \"Menggunakan kacamata minus jika mata terasa lelah dapat membantu.\", \"Menggunakan kacamata minus bisa menyebabkan mata lebih lelah.\", \"Menutup satu mata saat membaca dapat meningkatkan fokus.\", \"Tidak perlu kacamata matahari jika cuaca mendung.\", \"Makanan manis dapat menyebabkan astigmatisme.\", \"Tidur dengan lensa kontak dapat merusak kornea.\", \"Menggosok mata dengan daun mint dapat menghilangkan mata merah.\", \"Menggunakan kacamata pada anak-anak bisa membuat mata semakin buruk.\", \"Melihat TV dekat mata dapat memperbaiki penglihatan.\", \"Terlalu sering memakai kacamata minus bisa membuat mata malas.\", \"Membaca dengan cahaya lilin lebih baik untuk mata.\", \"Menggunakan lensa kontak saat tidur tidak masalah.\", \"Melihat sinar laser secara langsung tidak berbahaya bagi mata.\",\n",
    "                \"Paparan sinar ultraviolet dari sinar matahari dapat menyebabkan kerusakan mata.\", \"Diabetes dapat menyebabkan retinopati diabetik yang dapat mengganggu penglihatan.\", \"Perubahan penglihatan terjadi secara alami seiring bertambahnya usia.\", \"Merokok dapat meningkatkan risiko terjadinya katarak dan degenerasi makula.\", \"Konsumsi makanan bergizi, seperti makanan kaya vitamin A, C, E, dan mineral seperti seng, dapat membantu menjaga kesehatan mata.\", \"Istirahat reguler dan tetes mata bisa membantu mengurangi ketidaknyamanan mata kering.\", \"Penggunaan komputer dan perangkat elektronik lainnya dalam jangka waktu yang lama dapat menyebabkan Computer Vision Syndrome (CVS), menyebabkan gejala seperti mata kering, sakit kepala, dan ketegangan leher.\", \"Bentuk fisik mata setiap orang berbeda.\", \"Kacamata hitam yang baik melindungi mata dari sinar UV dan meminimalkan paparan sinar biru dari layar komputer atau perangkat elektronik lainnya.\", \"Deteksi dini adalah kunci untuk mencegah banyak masalah mata yang serius.\", \"Radang kelopak mata atau blepharitis adalah peradangan umum pada kelopak mata yang dapat menyebabkan mata merah, gatal, dan mengganggu penglihatan.\", \"Terlalu banyak paparan layar gadget dapat meningkatkan risiko mata kering.\", \"Glaukoma adalah kondisi di mana tekanan mata tinggi dapat merusak saraf optik dan menyebabkan kehilangan penglihatan.\", \"Usia di atas 40 meningkatkan risiko pengembangan katarak, yang mengaburkan lensa mata.\", \"Terlalu sering mengucek mata dapat memicu iritasi dan infeksi.\",\n",
    "                \"Kondisi mata seperti mata juling dapat diobati dengan terapi fisik atau operasi.\", \"Penggunaan lensa kontak yang tidak tepat atau kebersihan yang buruk dapat menyebabkan infeksi mata serius.\", \"Beberapa penyakit autoimun, seperti lupus dan rheumatoid arthritis, dapat mempengaruhi mata.\", \"Tekanan darah tinggi atau hipertensi dapat merusak pembuluh darah di mata.\", \"Konsumsi lemak sehat, seperti omega-3, dapat mendukung kesehatan mata.\", \"Lensa kontak tipe harian lebih higienis karena diganti setiap hari.\", \"Stres kronis dapat mempengaruhi kesehatan mata dan menyebabkan gejala mata kering.\", \"Alkohol dalam jumlah berlebihan dapat merusak saraf optik.\", \"Terlalu banyak mengonsumsi gula dapat meningkatkan risiko diabetes tipe 2, yang dapat merusak mata.\",\n",
    "                \"Beberapa obat, seperti antihistamin, dapat menyebabkan mata kering.\", \"Tekanan pada mata saat batuk atau bersin dapat memicu katarak pada orang yang rentan.\", \"Cedera mata dapat terjadi saat berolahraga atau kecelakaan, sehingga penting untuk menggunakan perlindungan mata yang tepat.\", \"Diabetes juga dapat menyebabkan pembuluh darah kecil di retina pecah, menyebabkan pendarahan dalam mata.\", \"Radang retina, atau uveitis, adalah kondisi yang dapat mengakibatkan mata merah, nyeri, dan penglihatan kabur.\", \"Lensa kontak tipe bulanan memerlukan perawatan dan pembersihan yang lebih intensif.\", \"Terlalu banyak konsumsi garam dapat meningkatkan risiko pembengkakan di sekitar mata.\", \"Terkena cahaya biru yang kuat dari layar komputer larut malam dapat mengganggu ritme sirkadian dan kualitas tidur.\", \"Mata kering dapat mempengaruhi kenyamanan selama penggunaan lensa kontak.\", \"Paparan sinar matahari yang berlebihan selama bertahun-tahun dapat menyebabkan pterygium atau ‘selaput mata’.\", \"Retina, bagian belakang mata, mengandung sel-sel fotoreseptor yang memungkinkan kita melihat cahaya dan warna.\", \"Terlalu banyak kafein dapat menyebabkan kelebihan cairan di mata, menyebabkan pembengkakan.\", \"Konsumsi vitamin C dan E dapat membantu mencegah degenerasi makula terkait usia.\", \"Pembengkakan kelopak mata (edema) dapat disebabkan oleh alergi atau masalah kesehatan lainnya.\", \"Beberapa kondisi seperti lupus dan rheumatoid arthritis dapat menyebabkan mata merah dan kering.\", \"Mata bayi baru lahir belum sepenuhnya berkembang dan perlu waktu untuk fokus dengan baik.\", \"Tidak semua masalah mata dapat dilihat dari luar; pemeriksaan mata profesional penting untuk deteksi dini.\", \"Mata manusia memiliki sekitar 107 juta sel batang yang membantu dalam penglihatan rendah cahaya.\", \"Pigmen pada iris mata mempengaruhi warna mata, dengan lebih banyak pigmen menghasilkan mata yang lebih gelap.\", \"Kondisi seperti hipotiroidisme dapat mempengaruhi kesehatan mata dan mengganggu produksi air mata.\", \"Pasokan darah yang buruk ke mata dapat menyebabkan masalah penglihatan dan kondisi serius seperti stroke mata.\", \"Pilihan kacamata atau lensa kontak yang tepat dapat membantu mengurangi mata lelah saat membaca atau bekerja di depan layar.\", \"Efek sinar biru pada retina dapat menyebabkan stres oksidatif yang merusak sel-sel mata.\", \"Kelopak mata memiliki kelenjar minyak yang dapat menyebabkan blepharitis jika terjadi infeksi atau penyumbatan.\", \"Kondisi jerawat rosasea juga dapat mempengaruhi mata, menyebabkan mata merah dan iritasi.\", \"Mata manusia dapat membedakan sekitar 10 juta warna berbeda.\",\n",
    "                \"Pembedahan katarak adalah prosedur yang umum untuk mengganti lensa mata yang kabur.\",\n",
    "                \"Terkena bahan kimia dapat menyebabkan luka kimia pada mata, yang dapat menyebabkan kerusakan permanen.\", \"Mata manusia dapat fokus pada objek yang berjarak mulai dari beberapa sentimeter hingga sejauh beberapa kilometer.\", \"Menerapkan kompres dingin dapat membantu mengurangi pembengkakan mata.\", \"Memijat area di sekitar mata dapat membantu meredakan ketegangan dan meningkatkan sirkulasi darah.\", \"Mata bayi cenderung berkedip lebih sedikit daripada orang dewasa.\", \"Pembuluh darah di bola mata membantu menyediakan nutrisi dan oksigen ke sel-sel mata.\", \"Radiasi sinar-X dapat merusak sel-sel di mata, itulah mengapa perlu menggunakan pelindung mata saat menjalani pemeriksaan sinar-X.\", \"Beberapa kondisi, seperti lupus, dapat memicu kerusakan saraf optik.\", \"Sel photoreceptor (sel batang dan kerucut) di retina mengubah cahaya menjadi sinyal saraf yang dikirimkan ke otak untuk pengolahan penglihatan.\"\n",
    "                ]\n",
    "\n",
    "bukanTentangMata = [\"Matahari adalah bintang pusat dari tata surya kita\",\"Sel elektrolit dalam baterai menghasilkan aliran listrik\",\n",
    "                    \"Air adalah zat penting untuk kelangsungan hidup manusia\",\"Jepang terkenal dengan keindahan bunga sakura pada musim semi\",\n",
    "                    \"Perpustakaan Aleksandria di Mesir kuno dikenal sebagai pusat pengetahuan terbesar pada zamannya\",\n",
    "                    \"Gurun Sahara adalah gurun terluas di dunia\",\"Alamat IP adalah serangkaian angka yang mengidentifikasi perangkat di jaringan internet\",\n",
    "                    \"Hutan Amazon adalah hutan hujan terbesar di dunia\",\"Shakespeare dianggap sebagai salah satu penulis drama paling berpengaruh dalam sejarah\",\n",
    "                    \"Bulan terestrial pertama kali diinjak oleh manusia saat misi Apollo 11 pada tahun 1969\",\n",
    "                    \"Kanada adalah negara terluas di Amerika Utara\",\"DNA adalah kode genetik yang mengandung informasi tentang pewarisan sifat\",\n",
    "                    \"Albert Einstein adalah tokoh ilmuwan yang dikenal dengan teori relativitasnya\",\n",
    "                    \"Raksasa gas Jupiter memiliki badai merah besar yang berlangsung selama berabad-abad\",\n",
    "                    \"Monalisa adalah lukisan tersohor karya Leonardo da Vinci\",\n",
    "                    \"Matahari tenggelam di barat dan terbit di timur karena rotasi Bumi\",\n",
    "                    \"Anggur dikenal sebagai bahan dasar pembuatan anggur dan minuman beralkohol lainnya\",\n",
    "                    \"Mount Everest adalah gunung tertinggi di dunia, terletak di Pegunungan Himalaya\",\n",
    "                    \"Mona Lisa adalah salah satu karya seni paling dicuri di dunia\",\n",
    "                    \"Google didirikan oleh Larry Page dan Sergey Brin pada tahun 1998\",\n",
    "                    \"Film Titanic menjadi salah satu film terlaris dalam sejarah perfilman\",\n",
    "                    \"Gajah adalah salah satu mamalia terbesar di dunia\",\n",
    "                    \"Grand Canyon di Amerika Serikat adalah lembah yang dibentuk oleh sungai Colorado\",\n",
    "                    \"Mozambik terkenal dengan pantai yang indah di sepanjang pesisir Samudra Hindia\",\n",
    "                    \"Pada tahun 1789, Revolusi Prancis mengubah peta politik Eropa\",\n",
    "                    \"Hewan koala hanya dapat ditemukan di Australia\",\n",
    "                    \"The Beatles adalah salah satu band musik paling berpengaruh dalam sejarah\",\n",
    "                    \"Google Earth memungkinkan pengguna untuk menjelajahi bumi dari perspektif satelit\",\n",
    "                    \"Romeo dan Juliet adalah salah satu karya drama terkenal William Shakespeare\",\n",
    "                    \"Amazon adalah perusahaan e-commerce terbesar di dunia\",\n",
    "                    \"Hewan panda hanya hidup di daerah pegunungan Cina\",\n",
    "                    \"Kerangka kerja JavaScript yang populer adalah React\",\n",
    "                    \"Michael Jordan dianggap sebagai salah satu pemain basket terhebat sepanjang masa\",\n",
    "                    \"Planet Saturnus memiliki cincin yang terdiri dari partikel-partikel es dan debu\",\n",
    "                    \"Tarian Salsa berasal dari Kuba dan memiliki gerakan energik\",\n",
    "                    \"Amazon Rainforest menghasilkan sekitar 20 persen oksigen dunia\",\n",
    "                    \"Orangutan adalah spesies simpanse yang hidup di hutan hujan tropis\",\n",
    "                    \"Planet Mars adalah target utama untuk eksplorasi manusia di masa depan\",\n",
    "                    \"Teluk Benggala adalah teluk terbesar di dunia berdasarkan luas\",\n",
    "                    \"Sejumlah besar spesies tumbuhan dan hewan hidup di hutan hujan Amazon\",\n",
    "                    \"Leonardo da Vinci menciptakan sketsa rancangan pesawat terbang sebelum penemuan pesawat modern\",\n",
    "                    \"Pohon kaktus dapat menyimpan air dalam batangnya untuk bertahan di daerah kering\",\n",
    "                    \"Arkeologi adalah studi tentang sisa-sisa budaya dan artefak masa lalu\",\n",
    "                    \"Flamenco adalah jenis tarian tradisional Spanyol yang penuh emosi\",\n",
    "                    \"Gua mammoth di Siberia, Rusia, mengandung lukisan dinding kuno yang menggambarkan kehidupan manusia prasejarah\",\n",
    "                    \"Mesir kuno terkenal dengan piramida besar yang dibangun sebagai makam para faraon\",\n",
    "                    \"Kelelawar adalah hewan mamalia yang terbang\",\n",
    "                    \"Albert Einstein dianggap sebagai salah satu pemikir paling brilian dalam sejarah manusia\",\n",
    "                    \"New Zealand terkenal dengan pemandangan alam yang indah dan aktifitas luar ruangan\",\n",
    "                    \"Matahari mengandung sekitar 99,8% massa tata surya kita\",\n",
    "                    \"Mata manusia dapat membedakan sekitar 2,3 juta warna yang berbeda\",\n",
    "                    \"The Louvre di Paris adalah salah satu museum seni terbesar di dunia\",\n",
    "                    \"Karang terumbu adalah ekosistem bawah laut yang kaya biodiversitas\",\n",
    "                    \"Teluk Benggala adalah teluk terbesar di dunia berdasarkan luas\",\n",
    "                    \"Sejumlah besar spesies tumbuhan dan hewan hidup di hutan hujan Amazon\",\n",
    "                    \"Raja Henry VIII dari Inggris terkenal karena pernikahan dan pembentukan Gereja Inggris\",\n",
    "                    \"Dalam mitologi Yunani, Olympus adalah tempat tinggal para dewa\",\n",
    "                    \"Jalan Raya Panamerika adalah jaringan jalan-jalan yang menghubungkan benua Amerika\",\n",
    "                    \"Modul Apollo 11 yang pertama kali mendarat di Bulan diberi nama Eagle\",\n",
    "                    \"Australia memiliki banyak hewan endemik yang tidak ditemukan di tempat lain\",\n",
    "                    \"Angkasa luar adalah lingkungan hampa udara yang berada di luar atmosfer bumi\",\n",
    "                    \"Barisan pegunungan Alpen membentang di sepanjang beberapa negara Eropa\",\n",
    "                    \"Angsa bisa terbang jarak yang sangat jauh selama migrasi\",\n",
    "                    \"Skotlandia terkenal dengan lanskap pegunungannya dan adat tradisinya yang unik\",\n",
    "                    \"Peta dunia adalah representasi grafis permukaan bumi yang menggambarkan negara dan wilayah\",\n",
    "                    \"Hewan panda adalah spesies yang dilindungi dan hidup di daerah pegunungan Cina\",\n",
    "                    \"Air terjun Niagara adalah salah satu atraksi alam paling terkenal di dunia\",\n",
    "                    \"Koin Bitcoin adalah bentuk mata uang digital yang tidak tergantung pada bank sentral\",\n",
    "                    \"Leonardo da Vinci juga menggambar rancangan perangkat yang mirip dengan helikopter\",\n",
    "                    \"Gajah adalah salah satu mamalia terbesar di dunia\",\n",
    "                    \"Grand Canyon di Amerika Serikat adalah lembah yang dibentuk oleh sungai Colorado\",\n",
    "                    \"Mozambik terkenal dengan pantai yang indah di sepanjang pesisir Samudra Hindia\",\n",
    "                    \"Pada tahun 1789, Revolusi Prancis mengubah peta politik Eropa\",\n",
    "                    \"Hewan koala hanya dapat ditemukan di Australia\",\n",
    "                    \"The Beatles adalah salah satu band musik paling berpengaruh dalam sejarah\",\n",
    "                    \"Google Earth memungkinkan pengguna untuk menjelajahi bumi dari perspektif satelit\",\n",
    "                    \"Romeo dan Juliet adalah salah satu karya drama terkenal William Shakespeare\",\n",
    "                    \"Amazon adalah perusahaan e-commerce terbesar di dunia\",\n",
    "                    \"Hewan panda hanya hidup di daerah pegunungan Cina\",\n",
    "                    \"Kerangka kerja JavaScript yang populer adalah React\",\n",
    "                    \"Michael Jordan dianggap sebagai salah satu pemain basket terhebat sepanjang masa\",\n",
    "                    \"Planet Saturnus memiliki cincin yang terdiri dari partikel-partikel es dan debu\",\n",
    "                    \"Tarian Salsa berasal dari Kuba dan memiliki gerakan energik\",\n",
    "                    \"Amazon Rainforest menghasilkan sekitar 20 persen oksigen dunia\",\n",
    "                    \"Orangutan adalah spesies simpanse yang hidup di hutan hujan tropis\",\n",
    "                    \"Planet Mars adalah target utama untuk eksplorasi manusia di masa depan\",\n",
    "                    \"Teluk Benggala adalah teluk terbesar di dunia berdasarkan luas\",\n",
    "                    \"Sejumlah besar spesies tumbuhan dan hewan hidup di hutan hujan Amazon\",\n",
    "                    \"Leonardo da Vinci menciptakan sketsa rancangan pesawat terbang sebelum penemuan pesawat modern\",\n",
    "                    \"Pohon kaktus dapat menyimpan air dalam batangnya untuk bertahan di daerah kering\",\n",
    "                    \"Arkeologi adalah studi tentang sisa-sisa budaya dan artefak masa lalu\",\n",
    "                    \"Flamenco adalah jenis tarian tradisional Spanyol yang penuh emosi\",\n",
    "                    \"Gua mammoth di Siberia, Rusia, mengandung lukisan dinding kuno yang menggambarkan kehidupan manusia prasejarah\",\n",
    "                    \"Mesir kuno terkenal dengan piramida besar yang dibangun sebagai makam para faraon\",\n",
    "                    \"Kelelawar adalah hewan mamalia yang terbang\",\n",
    "                    \"Albert Einstein dianggap sebagai salah satu pemikir paling brilian dalam sejarah manusia\",\n",
    "                    \"New Zealand terkenal dengan pemandangan alam yang indah dan aktifitas luar ruangan\",\n",
    "                    \"Matahari mengandung sekitar 99,8% massa tata surya kita\",\n",
    "                    \"Mata manusia dapat membedakan sekitar 2,3 juta warna yang berbeda\",\n",
    "                    \"The Louvre di Paris adalah salah satu museum seni terbesar di dunia\",\n",
    "                    \"Karang terumbu adalah ekosistem bawah laut yang kaya biodiversitas\",\n",
    "                    \"Teluk Benggala adalah teluk terbesar di dunia berdasarkan luas\",\n",
    "                    \"Sejumlah besar spesies tumbuhan dan hewan hidup di hutan hujan Amazon\",\n",
    "                    \"Raja Henry VIII dari Inggris terkenal karena pernikahan dan pembentukan Gereja Inggris\",\n",
    "                    \"Dalam mitologi Yunani, Olympus adalah tempat tinggal para dewa\",\n",
    "                    \"Jalan Raya Panamerika adalah jaringan jalan-jalan yang menghubungkan benua Amerika\",\n",
    "                    \"Modul Apollo 11 yang pertama kali mendarat di Bulan diberi nama Eagle\",\n",
    "                    \"Australia memiliki banyak hewan endemik yang tidak ditemukan di tempat lain\",\n",
    "                    \"Angkasa luar adalah lingkungan hampa udara yang berada di luar atmosfer bumi\",\n",
    "                    \"Barisan pegunungan Alpen membentang di sepanjang beberapa negara Eropa\",\n",
    "                    \"Angsa bisa terbang jarak yang sangat jauh selama migrasi\",\n",
    "                    \"Skotlandia terkenal dengan lanskap pegunungannya dan adat tradisinya yang unik\",\n",
    "                    \"Peta dunia adalah representasi grafis permukaan bumi yang menggambarkan negara dan wilayah\",\n",
    "                    \"Hewan panda adalah spesies yang dilindungi dan hidup di daerah pegunungan Cina\",\n",
    "                    \"Air terjun Niagara adalah salah satu atraksi alam paling terkenal di dunia\",\n",
    "                    \"Koin Bitcoin adalah bentuk mata uang digital yang tidak tergantung pada bank sentral\",\n",
    "                    \"Leonardo da Vinci juga menggambar rancangan perangkat yang mirip dengan helikopter\",\n",
    "                    \"Gajah adalah salah satu mamalia terbesar di dunia\",\n",
    "                    \"Grand Canyon di Amerika Serikat adalah lembah yang dibentuk oleh sungai Colorado\",\n",
    "                    \"Mozambik terkenal dengan pantai yang indah di sepanjang pesisir Samudra Hindia\",]\n"
   ]
  },
  {
   "cell_type": "code",
   "execution_count": 4,
   "metadata": {},
   "outputs": [],
   "source": [
    "import gensim\n",
    "import numpy as np\n",
    "import random\n",
    "from sklearn.model_selection import train_test_split\n",
    "from sklearn.preprocessing import LabelEncoder\n",
    "from sklearn.metrics import accuracy_score\n",
    "from keras.models import Sequential\n",
    "from keras.layers import Dense, Embedding, Flatten, Conv1D, MaxPooling1D\n",
    "from keras.models import load_model"
   ]
  },
  {
   "cell_type": "code",
   "execution_count": 5,
   "metadata": {},
   "outputs": [],
   "source": [
    "# Definisi Function\n",
    "def clean_and_lower(text):\n",
    "    cleaned_text = ''.join(char.lower() for char in text if char.isalnum() or char.isspace())\n",
    "    return cleaned_text\n",
    "\n",
    "# Word2Vec Model\n",
    "def word2vec_model(sentences):\n",
    "    words = [sentence.split() for sentence in sentences]\n",
    "    model = gensim.models.Word2Vec(words, vector_size=100, window=5, min_count=1, workers=4)\n",
    "    return model\n",
    "\n",
    "# Convert sentences to average word vectors\n",
    "def get_avg_word_vectors(sentences, model):\n",
    "    avg_vectors = []\n",
    "    for sentence in sentences:\n",
    "        vectors = []\n",
    "        for word in sentence.split():\n",
    "            if word in model.wv:\n",
    "                vectors.append(model.wv[word])\n",
    "        if vectors:\n",
    "            avg_vectors.append(np.mean(vectors, axis=0))\n",
    "        else:\n",
    "            avg_vectors.append(np.zeros(model.vector_size))\n",
    "    return np.array(avg_vectors)\n",
    "\n",
    "# Build and train a simple neural network\n",
    "def build_model(input_dim):\n",
    "    model = Sequential()\n",
    "    model.add(Dense(128, input_dim=input_dim, activation='relu'))\n",
    "    model.add(Dense(64, activation='relu'))\n",
    "    model.add(Dense(32, activation='relu'))\n",
    "    model.add(Dense(16, activation='relu'))\n",
    "    model.add(Flatten())\n",
    "    model.add(Dense(64, activation='relu'))\n",
    "    model.add(Dense(1, activation='sigmoid'))\n",
    "    model.compile(loss='binary_crossentropy', optimizer='adam', metrics=['accuracy'])\n",
    "    return model"
   ]
  },
  {
   "cell_type": "code",
   "execution_count": 6,
   "metadata": {},
   "outputs": [
    {
     "name": "stdout",
     "output_type": "stream",
     "text": [
      "('Matahari adalah bintang pusat dari tata surya kita', 0)\n",
      "('Menggunakan kacamata atau lensa kontak dapat membantu memperbaiki gangguan penglihatan dan mencegah masalah lebih lanjut.', 1)\n"
     ]
    }
   ],
   "source": [
    "# Kasih target setiap kalimat, 0 = mitos, 1 = fakta\n",
    "labelledTidak = [(kalimat, 0) for kalimat in bukanTentangMata]\n",
    "labelledBisa = [(kalimat, 1) for kalimat in tentangMata]\n",
    "print(labelledTidak[0])\n",
    "print(labelledBisa[0])"
   ]
  },
  {
   "cell_type": "code",
   "execution_count": 7,
   "metadata": {},
   "outputs": [
    {
     "name": "stdout",
     "output_type": "stream",
     "text": [
      "('Kelopak mata memiliki kelenjar minyak yang dapat menyebabkan blepharitis jika terjadi infeksi atau penyumbatan.', 1)\n"
     ]
    }
   ],
   "source": [
    "# gabung fakta dan mitos, lalu shuffle\n",
    "trainData = labelledTidak + labelledBisa\n",
    "random.shuffle(trainData)\n",
    "print(trainData[0])"
   ]
  },
  {
   "cell_type": "code",
   "execution_count": 8,
   "metadata": {},
   "outputs": [
    {
     "name": "stdout",
     "output_type": "stream",
     "text": [
      "('leonardo da vinci menciptakan sketsa rancangan pesawat terbang sebelum penemuan pesawat modern', 0)\n"
     ]
    }
   ],
   "source": [
    "# preprocess, hilangkan yang bukan alpha numerik dan lower\n",
    "cleanData = [(clean_and_lower(kalimat), label) for kalimat, label in trainData]\n",
    "random.shuffle(cleanData)\n",
    "print(cleanData[0])"
   ]
  },
  {
   "cell_type": "code",
   "execution_count": 9,
   "metadata": {},
   "outputs": [
    {
     "name": "stdout",
     "output_type": "stream",
     "text": [
      "240\n",
      "0\n"
     ]
    }
   ],
   "source": [
    "sentences = [data for data, label in cleanData]\n",
    "labels = [label for data, label in cleanData]\n",
    "print(len(sentences))\n",
    "print(labels[0])"
   ]
  },
  {
   "cell_type": "code",
   "execution_count": 10,
   "metadata": {},
   "outputs": [
    {
     "name": "stdout",
     "output_type": "stream",
     "text": [
      "Epoch 1/20\n",
      "48/48 [==============================] - 1s 2ms/step - loss: 0.6935 - accuracy: 0.4750\n",
      "Epoch 2/20\n",
      "48/48 [==============================] - 0s 2ms/step - loss: 0.6909 - accuracy: 0.5792\n",
      "Epoch 3/20\n",
      "48/48 [==============================] - 0s 2ms/step - loss: 0.6287 - accuracy: 0.6375\n",
      "Epoch 4/20\n",
      "48/48 [==============================] - 0s 2ms/step - loss: 0.4225 - accuracy: 0.8833\n",
      "Epoch 5/20\n",
      "48/48 [==============================] - 0s 2ms/step - loss: 0.2675 - accuracy: 0.9500\n",
      "Epoch 6/20\n",
      "48/48 [==============================] - 0s 2ms/step - loss: 0.1409 - accuracy: 0.9625\n",
      "Epoch 7/20\n",
      "48/48 [==============================] - 0s 2ms/step - loss: 0.0819 - accuracy: 0.9708\n",
      "Epoch 8/20\n",
      "48/48 [==============================] - 0s 2ms/step - loss: 0.0894 - accuracy: 0.9750\n",
      "Epoch 9/20\n",
      "48/48 [==============================] - 0s 2ms/step - loss: 0.0613 - accuracy: 0.9750\n",
      "Epoch 10/20\n",
      "48/48 [==============================] - 0s 2ms/step - loss: 0.0515 - accuracy: 0.9833\n",
      "Epoch 11/20\n",
      "48/48 [==============================] - 0s 2ms/step - loss: 0.0463 - accuracy: 0.9833\n",
      "Epoch 12/20\n",
      "48/48 [==============================] - 0s 2ms/step - loss: 0.0244 - accuracy: 0.9958\n",
      "Epoch 13/20\n",
      "48/48 [==============================] - 0s 2ms/step - loss: 0.0357 - accuracy: 0.9875\n",
      "Epoch 14/20\n",
      "48/48 [==============================] - 0s 2ms/step - loss: 0.0304 - accuracy: 0.9917\n",
      "Epoch 15/20\n",
      "48/48 [==============================] - 0s 2ms/step - loss: 0.0341 - accuracy: 0.9833\n",
      "Epoch 16/20\n",
      "48/48 [==============================] - 0s 2ms/step - loss: 0.0224 - accuracy: 0.9875\n",
      "Epoch 17/20\n",
      "48/48 [==============================] - 0s 3ms/step - loss: 0.0150 - accuracy: 0.9958\n",
      "Epoch 18/20\n",
      "48/48 [==============================] - 0s 3ms/step - loss: 0.0108 - accuracy: 0.9958\n",
      "Epoch 19/20\n",
      "48/48 [==============================] - 0s 2ms/step - loss: 0.1629 - accuracy: 0.9417\n",
      "Epoch 20/20\n",
      "48/48 [==============================] - 0s 3ms/step - loss: 0.0547 - accuracy: 0.9833\n"
     ]
    },
    {
     "data": {
      "text/plain": [
       "<keras.src.callbacks.History at 0x26d866afb10>"
      ]
     },
     "execution_count": 10,
     "metadata": {},
     "output_type": "execute_result"
    }
   ],
   "source": [
    "word2vec = word2vec_model(sentences) # ajarin model sentence word2vec\n",
    "X_train_avg = get_avg_word_vectors(sentences, word2vec)\n",
    "model = build_model(input_dim=X_train_avg.shape[1])\n",
    "model.fit(X_train_avg, np.array(labels), batch_size=5, epochs=20, verbose=1)"
   ]
  },
  {
   "cell_type": "code",
   "execution_count": 11,
   "metadata": {},
   "outputs": [
    {
     "name": "stderr",
     "output_type": "stream",
     "text": [
      "c:\\Users\\muham\\AppData\\Local\\Programs\\Python\\Python311\\Lib\\site-packages\\keras\\src\\engine\\training.py:3000: UserWarning: You are saving your model as an HDF5 file via `model.save()`. This file format is considered legacy. We recommend using instead the native Keras format, e.g. `model.save('my_model.keras')`.\n",
      "  saving_api.save_model(\n"
     ]
    }
   ],
   "source": [
    "# Save model\n",
    "model.save(\"temaMata.h5\")\n",
    "word2vec.save(\"temaMata.bin\")"
   ]
  },
  {
   "cell_type": "code",
   "execution_count": null,
   "metadata": {},
   "outputs": [],
   "source": []
  }
 ],
 "metadata": {
  "kernelspec": {
   "display_name": "Python 3",
   "language": "python",
   "name": "python3"
  },
  "language_info": {
   "codemirror_mode": {
    "name": "ipython",
    "version": 3
   },
   "file_extension": ".py",
   "mimetype": "text/x-python",
   "name": "python",
   "nbconvert_exporter": "python",
   "pygments_lexer": "ipython3",
   "version": "3.11.4"
  },
  "orig_nbformat": 4
 },
 "nbformat": 4,
 "nbformat_minor": 2
}
